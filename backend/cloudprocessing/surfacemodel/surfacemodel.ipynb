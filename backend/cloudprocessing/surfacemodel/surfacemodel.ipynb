{
 "cells": [
  {
   "cell_type": "code",
   "execution_count": null,
   "outputs": [],
   "source": [
    "import numpy as np\n",
    "import pandas as pd\n",
    "import torch\n",
    "import torch.nn as nn\n",
    "from sklearn.model_selection import train_test_split\n",
    "\n",
    "import backend.cloudprocessing.dataprocessing as dp\n",
    "import backend.cloudprocessing.rnn as rnn\n",
    "import backend.cloudprocessing.util as util\n",
    "import backend.config as config"
   ],
   "metadata": {
    "collapsed": false
   },
   "id": "2e7c4dbf55512178"
  },
  {
   "cell_type": "markdown",
   "source": [
    "### Data preparation\n",
    "extract current data from the database and prepare for processing"
   ],
   "metadata": {
    "collapsed": false
   },
   "id": "3acda61db2d57078"
  },
  {
   "cell_type": "code",
   "execution_count": null,
   "outputs": [],
   "source": [
    "df = dp.get_dataframe()"
   ],
   "metadata": {
    "collapsed": false
   },
   "id": "initial_id"
  },
  {
   "cell_type": "code",
   "execution_count": null,
   "outputs": [],
   "source": [
    "df = dp.pre_processing(df)"
   ],
   "metadata": {
    "collapsed": false
   },
   "id": "7302fcc9477fce"
  },
  {
   "cell_type": "code",
   "execution_count": null,
   "outputs": [],
   "source": [
    "def data_preparation(df):\n",
    "    df.dropna(subset=['terrain'], inplace=True)\n",
    "\n",
    "    df['time_second'] = df.time.map(lambda x: pd.Timestamp(x).floor(freq='S'))\n",
    "    df['time'] = df.time.map(pd.Timestamp.timestamp)\n",
    "\n",
    "    grouped = df.groupby([df.trip_id, df.time_second])  # grouped.get_group(1)\n",
    "    x = []\n",
    "    y = []\n",
    "\n",
    "    # data verification\n",
    "    data_errors = ['GOOD', 'LONG', 'SHORT']\n",
    "    data_checking = [0, 0, 0]\n",
    "    total_samples = 0\n",
    "    total_length = 0\n",
    "\n",
    "    for i, (trip_seconds, table) in enumerate(grouped):\n",
    "        if (i + 1) % 100 == 0:\n",
    "            print(\"# trip seconds: \" + str(i + 1))\n",
    "\n",
    "        train_input = table.drop(columns=['terrain', 'trip_id', 'crash', 'time_second', 'latitude', 'longitude'])\n",
    "        n_cols = len(train_input.columns)\n",
    "\n",
    "        train_input = train_input.to_numpy()\n",
    "\n",
    "        input_length = len(train_input)\n",
    "        total_length += input_length\n",
    "        if input_length == config.batch_size:\n",
    "            data_checking[0] += 1\n",
    "        elif input_length > config.batch_size:\n",
    "            data_checking[1] += 1\n",
    "            train_input = train_input[:config.batch_size]\n",
    "        else:\n",
    "            data_checking[2] += 1\n",
    "            n_missing_rows = config.batch_size - len(train_input)\n",
    "            for _ in range(n_missing_rows):\n",
    "                fake_array = [1] * n_cols\n",
    "                train_input = np.append(train_input, fake_array)\n",
    "\n",
    "        train_target = table.terrain.min()\n",
    "\n",
    "        x.append(train_input)\n",
    "        y.append(train_target)\n",
    "        total_samples += 1\n",
    "\n",
    "    print('Printing Data Accuracy to ', config.batch_size, ' Hz frequency ...')\n",
    "    for i in range(len(data_checking)):\n",
    "        if total_samples > 0:\n",
    "            print('%5s: %2d%% (%2d/%2d)' % (\n",
    "                data_errors[i], 100.0 * data_checking[i] / total_samples,\n",
    "                np.sum(data_checking[i]), total_samples))\n",
    "        else:\n",
    "            raise Exception(\"No Data Samples found, please check db connection\")\n",
    "\n",
    "    print('Mean Batch Length: %2.2f per Tripsecond ' % (total_length / total_samples))\n",
    "\n",
    "    return np.array(x), np.array(y)\n",
    "\n",
    "\n",
    "X, Y = data_preparation(df)"
   ],
   "metadata": {
    "collapsed": false
   },
   "id": "a0400ab1a9478850"
  },
  {
   "cell_type": "markdown",
   "source": [
    "### Training the Model"
   ],
   "metadata": {
    "collapsed": false
   },
   "id": "eb319204e1a5117d"
  },
  {
   "cell_type": "code",
   "execution_count": null,
   "outputs": [],
   "source": [
    "import torch.nn.functional as F\n",
    "from torch.utils.data import TensorDataset, DataLoader\n",
    "from sklearn.preprocessing import StandardScaler\n",
    "\n",
    "\n",
    "def gen_dataloader(x, y, test_size=0.2, random_state=0):\n",
    "    # scaler = MinMaxScaler()  # TODO: choose scaler\n",
    "    scaler = StandardScaler()\n",
    "    scaler.fit(x)\n",
    "    x = scaler.transform(x)\n",
    "\n",
    "    x = torch.tensor(x)\n",
    "    y = torch.tensor(y)\n",
    "\n",
    "    train_x, test_x, train_y, test_y = train_test_split(x, y, test_size=test_size, random_state=random_state)\n",
    "\n",
    "    train_x = torch.Tensor(train_x)\n",
    "    train_y = F.one_hot(train_y.long(), len(config.classes)).to(torch.float32)\n",
    "\n",
    "    test_x = torch.Tensor(test_x)\n",
    "    test_y = F.one_hot(test_y.long(), len(config.classes)).to(torch.float32)\n",
    "\n",
    "    train_dataset = TensorDataset(train_x, train_y)\n",
    "    test_dataset = TensorDataset(test_x, test_y)\n",
    "\n",
    "    train_loader = DataLoader(train_dataset)\n",
    "    test_loader = DataLoader(test_dataset)\n",
    "\n",
    "    return train_loader, test_loader\n",
    "\n",
    "\n",
    "train_loader, test_loader = gen_dataloader(X, Y)  # with default values"
   ],
   "metadata": {
    "collapsed": false
   },
   "id": "28a848b118514c84"
  },
  {
   "cell_type": "code",
   "execution_count": null,
   "outputs": [],
   "source": [
    "from torch import optim\n",
    "\n",
    "\n",
    "def train_model(model, train_loader, num_epochs=config.num_training_epochs, lr=config.learning_rate,\n",
    "                momentum=config.momentum):\n",
    "    criterion = nn.CrossEntropyLoss()\n",
    "    # criterion = nn.MSELoss()\n",
    "    # criterion = nn.NLLLoss()\n",
    "\n",
    "    # optimizer = optim.SGD(model.parameters(), lr=lr, momentum=momentum)\n",
    "    optimizer = optim.Adam(model.parameters(), lr=lr)\n",
    "\n",
    "    print(\"Training STARTED\")\n",
    "\n",
    "    for e in range(0, num_epochs):\n",
    "        model.train()  # set the model in training mode\n",
    "        total_train_loss = 0  # initialize the total training and validation loss\n",
    "\n",
    "        for i, (training_input, target) in enumerate(train_loader):  # loop over the training set\n",
    "            hidden = model.initHidden()\n",
    "            model.zero_grad()\n",
    "\n",
    "            output = [.0, .0, .0, .0]\n",
    "            for data_row in training_input:\n",
    "                for i in range(0, len(data_row), config.n_training_cols):\n",
    "                    model_input = data_row[None, i:i + config.n_training_cols].float()\n",
    "                    output, hidden = model(model_input, hidden)\n",
    "\n",
    "            optimizer.zero_grad()\n",
    "            loss = criterion(output, target)\n",
    "            loss.backward()\n",
    "            optimizer.step()\n",
    "\n",
    "            # add the loss to the total training loss so far and calculate the number of correct predictions\n",
    "            total_train_loss += loss.item()\n",
    "\n",
    "        if (e + 1) % 10 == 0:\n",
    "            print(\"Epoch\", e + 1, \"Training Loss:\", total_train_loss)\n",
    "\n",
    "    print(\"Training FINISHED\")\n",
    "\n",
    "    return model, criterion\n",
    "\n",
    "\n",
    "model = rnn.RNN(config.n_training_cols, config.n_hidden_layers, len(config.classes))\n",
    "model, criterion = train_model(model=model, train_loader=train_loader)\n"
   ],
   "metadata": {
    "collapsed": false
   },
   "id": "e7b124385ff76145"
  },
  {
   "cell_type": "markdown",
   "source": [
    "## Testing"
   ],
   "metadata": {
    "collapsed": false
   },
   "id": "530667021e47b60d"
  },
  {
   "cell_type": "code",
   "execution_count": null,
   "outputs": [],
   "source": [
    "def print_training_accuracy(model, train_loader, criterion, classes):\n",
    "    training_loss, class_correct, class_total = util.compute_accuracy_rnn(model=model, loader=train_loader,\n",
    "                                                                      criterion=criterion)\n",
    "\n",
    "    # average training loss\n",
    "    training_loss = training_loss / len(train_loader.dataset)\n",
    "    print('Training Loss: {:.6f}\\n'.format(training_loss))\n",
    "    for i in range(len(classes)):\n",
    "        if class_total[i] > 0:\n",
    "            print('Training Accuracy of %5s: %2d%% (%2d/%2d)' % (\n",
    "                classes[i], 100.0 * class_correct[i] / class_total[i],\n",
    "                np.sum(class_correct[i]), np.sum(class_total[i])))\n",
    "        else:\n",
    "            print('Training Accuracy of %5s: N/A ' % (classes[i]))\n",
    "\n",
    "    print('Training Accuracy (Overall): %2d%% (%2d/%2d)' % (\n",
    "        100. * np.sum(class_correct) / np.sum(class_total),\n",
    "        np.sum(class_correct), np.sum(class_total)))\n",
    "\n",
    "\n",
    "print_training_accuracy(model=model, train_loader=train_loader, criterion=criterion, classes=config.classes)"
   ],
   "metadata": {
    "collapsed": false
   },
   "id": "62ce83cb80d2b080"
  },
  {
   "cell_type": "code",
   "execution_count": null,
   "outputs": [],
   "source": [
    "def print_testing_accuracy(model, test_loader, classes, criterion):\n",
    "    test_loss, class_correct, class_total = util.compute_accuracy_rnn(model=model, loader=test_loader, criterion=criterion)\n",
    "\n",
    "    # average test loss\n",
    "    test_loss = test_loss / len(test_loader.dataset)\n",
    "    print('Test Loss: {:.6f}\\n'.format(test_loss))\n",
    "\n",
    "    for i in range(len(classes)):\n",
    "        if class_total[i] > 0:\n",
    "            print('Test Accuracy of %5s: %2d%% (%2d/%2d)' % (\n",
    "                classes[i], 100.0 * class_correct[i] / class_total[i],\n",
    "                np.sum(class_correct[i]), np.sum(class_total[i])))\n",
    "        else:\n",
    "            print('Test Accuracy of %5s: N/A (no testing examples)' % (classes[i]))\n",
    "\n",
    "    print('\\nTest Accuracy (Overall): %2d%% (%2d/%2d)' % (\n",
    "        100. * np.sum(class_correct) / np.sum(class_total),\n",
    "        np.sum(class_correct), np.sum(class_total)))\n",
    "\n",
    "\n",
    "print_testing_accuracy(model=model, test_loader=test_loader, criterion=criterion, classes=config.classes)"
   ],
   "metadata": {
    "collapsed": false
   },
   "id": "d71d827209b64b7c"
  }
 ],
 "metadata": {
  "kernelspec": {
   "display_name": "Python 3",
   "language": "python",
   "name": "python3"
  },
  "language_info": {
   "codemirror_mode": {
    "name": "ipython",
    "version": 2
   },
   "file_extension": ".py",
   "mimetype": "text/x-python",
   "name": "python",
   "nbconvert_exporter": "python",
   "pygments_lexer": "ipython2",
   "version": "2.7.6"
  }
 },
 "nbformat": 4,
 "nbformat_minor": 5
}
