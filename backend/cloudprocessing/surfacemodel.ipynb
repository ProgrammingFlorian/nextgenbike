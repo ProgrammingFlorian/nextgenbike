{
 "cells": [
  {
   "cell_type": "code",
   "execution_count": 1,
   "outputs": [
    {
     "name": "stderr",
     "output_type": "stream",
     "text": [
      "/Users/maximilianrapp/PycharmProjects/nextgenbike/venv/lib/python3.9/site-packages/urllib3/__init__.py:34: NotOpenSSLWarning: urllib3 v2.0 only supports OpenSSL 1.1.1+, currently the 'ssl' module is compiled with 'LibreSSL 2.8.3'. See: https://github.com/urllib3/urllib3/issues/3020\n",
      "  warnings.warn(\n"
     ]
    }
   ],
   "source": [
    "import numpy as np\n",
    "import pandas as pd\n",
    "import torch\n",
    "import torch.nn as nn\n",
    "from sklearn.model_selection import train_test_split\n",
    "from sklearn.preprocessing import MinMaxScaler\n",
    "\n",
    "import backend.config as config\n",
    "import dataprocessing\n",
    "import surfacemodelclass as sf\n",
    "import util"
   ],
   "metadata": {
    "collapsed": false,
    "ExecuteTime": {
     "end_time": "2023-11-10T07:27:09.609117Z",
     "start_time": "2023-11-10T07:27:07.351502Z"
    }
   },
   "id": "2e7c4dbf55512178"
  },
  {
   "cell_type": "markdown",
   "source": [
    "### Data preparation\n",
    "extract current data from the database and prepare for processing"
   ],
   "metadata": {
    "collapsed": false
   },
   "id": "3acda61db2d57078"
  },
  {
   "cell_type": "code",
   "execution_count": 2,
   "outputs": [],
   "source": [
    "from requests.exceptions import ChunkedEncodingError\n",
    "\n",
    "CLASSES = config.classes\n",
    "\n",
    "raw_data = \"\"\n",
    "while raw_data == \"\":\n",
    "    try:\n",
    "        raw_data = dataprocessing.get_data_db()\n",
    "    except ChunkedEncodingError:\n",
    "        print(\"Couldn't get Data, retrying ...\")"
   ],
   "metadata": {
    "collapsed": false,
    "ExecuteTime": {
     "end_time": "2023-11-10T07:27:09.837973Z",
     "start_time": "2023-11-10T07:27:09.610394Z"
    }
   },
   "id": "initial_id"
  },
  {
   "cell_type": "code",
   "execution_count": 3,
   "outputs": [],
   "source": [
    "def pre_processing(dataframe):\n",
    "    # cycling session 06.11.2023\n",
    "    pavement_start = pd.Timestamp(year=2023, month=11, day=6, hour=18, minute=33)\n",
    "    pavement_end = pd.Timestamp(year=2023, month=11, day=6, hour=18, minute=55)\n",
    "    asphalt_start_1 = pd.Timestamp(year=2023, month=11, day=6, hour=19, minute=9)\n",
    "    asphalt_end_1 = pd.Timestamp(year=2023, month=11, day=6, hour=19, minute=17)\n",
    "    asphalt_start_2 = pd.Timestamp(year=2023, month=11, day=6, hour=19, minute=31)\n",
    "    asphalt_end_2 = pd.Timestamp(year=2023, month=11, day=6, hour=20, minute=00)\n",
    "\n",
    "    #cycling session 09.11.2023\n",
    "    asphalt_start_3 = pd.Timestamp(year=2023, month=11, day=9, hour=20, minute=20)\n",
    "    asphalt_end_3 = pd.Timestamp(year=2023, month=11, day=9, hour=21, minute=0)\n",
    "    pavement_start_2 = pd.Timestamp(year=2023, month=11, day=9, hour=21, minute=5)\n",
    "    pavement_end_2 = pd.Timestamp(year=2023, month=11, day=9, hour=21, minute=30)\n",
    "    \n",
    "    asphalt_count = 0\n",
    "    pavement_count = 0\n",
    "\n",
    "    dataframe['time'] = pd.to_datetime(dataframe['time'], format='mixed')\n",
    "    for i, row in dataframe.iterrows():\n",
    "        if pavement_start <= row.time <= pavement_end or pavement_start_2 <= row.time <= pavement_end_2:\n",
    "            dataframe.at[i, 'terrain'] = config.map_to_int('pavement')\n",
    "            pavement_count += 1\n",
    "        elif asphalt_start_1 <= row.time <= asphalt_end_1 or asphalt_start_2 <= row.time <= asphalt_end_2 or asphalt_start_3 <= row.time <= asphalt_end_3:\n",
    "            dataframe.at[i, 'terrain'] = config.map_to_int('asphalt')\n",
    "            asphalt_count += 1\n",
    "\n",
    "    print(\"Asphalt Data points: \", asphalt_count)\n",
    "    print(\"Pavement Data points: \", pavement_count)\n",
    "    \n",
    "    return dataframe"
   ],
   "metadata": {
    "collapsed": false,
    "ExecuteTime": {
     "end_time": "2023-11-10T07:27:09.844722Z",
     "start_time": "2023-11-10T07:27:09.842386Z"
    }
   },
   "id": "7302fcc9477fce"
  },
  {
   "cell_type": "code",
   "execution_count": 4,
   "outputs": [
    {
     "name": "stdout",
     "output_type": "stream",
     "text": [
      "Asphalt Data points:  305\n",
      "Pavement Data points:  752\n",
      "# trip seconds: 100\n",
      "# trip seconds: 200\n",
      "# trip seconds: 300\n",
      "Printing Data Accuracy to  0.1  Hz frequency ...\n",
      " GOOD:  0% ( 0/310)\n",
      " LONG:  0% ( 0/310)\n",
      "SHORT: 100% (310/310)\n",
      "Mean Batch Length: 3.41 per Tripsecond \n"
     ]
    },
    {
     "name": "stderr",
     "output_type": "stream",
     "text": [
      "/var/folders/q4/b_qkk2qx16zdglt42g7c0dlr0000gn/T/ipykernel_38077/3791474953.py:7: FutureWarning: Passing literal json to 'read_json' is deprecated and will be removed in a future version. To read from a literal string, wrap it in a 'StringIO' object.\n",
      "  df = pd.read_json(data)\n"
     ]
    }
   ],
   "source": [
    "BATCH_SIZE = 10\n",
    "n_cols = 8\n",
    "\n",
    "\n",
    "def data_preparation(data):\n",
    "    global n_cols\n",
    "    df = pd.read_json(data)\n",
    "    \n",
    "    df = pre_processing(df)\n",
    "\n",
    "    df.dropna(subset=['terrain'], inplace=True)\n",
    "\n",
    "    df['time_second'] = df.time.map(lambda x: pd.Timestamp(x).floor(freq='S'))\n",
    "    df['time'] = df.time.map(pd.Timestamp.timestamp)\n",
    "\n",
    "    grouped = df.groupby([df.trip_id, df.time_second])  # grouped.get_group(1)\n",
    "    x = []\n",
    "    y = []\n",
    "    \n",
    "    # data verification\n",
    "    data_errors = ['GOOD', 'LONG', 'SHORT']\n",
    "    data_checking = [0, 0, 0] \n",
    "    total_samples = 0\n",
    "    total_length = 0\n",
    "    \n",
    "    for i, (trip_seconds, table) in enumerate(grouped):\n",
    "        if (i + 1) % 100 == 0:\n",
    "            print(\"# trip seconds: \" + str(i + 1))\n",
    "\n",
    "        train_input = table.drop(columns=['terrain', 'trip_id', 'crash', 'time_second', 'latitude', 'longitude'])\n",
    "        n_cols = len(train_input.columns)\n",
    "\n",
    "        train_input = train_input.to_numpy()\n",
    "\n",
    "        input_length = len(train_input)\n",
    "        total_length += input_length\n",
    "        if input_length == BATCH_SIZE:\n",
    "            data_checking[0] += 1\n",
    "        elif input_length > BATCH_SIZE:\n",
    "            data_checking[1] += 1\n",
    "            train_input = train_input[:BATCH_SIZE]\n",
    "        else:\n",
    "            data_checking[2] += 1\n",
    "            n_missing_rows = BATCH_SIZE - len(train_input)\n",
    "            for _ in range(n_missing_rows):\n",
    "                fake_array = [1] * n_cols\n",
    "                train_input = np.append(train_input, fake_array)\n",
    "        \n",
    "        train_target = table.terrain.min()\n",
    "\n",
    "        x.append(train_input)\n",
    "        y.append(train_target)\n",
    "        total_samples += 1\n",
    "\n",
    "    print('Printing Data Accuracy to ', BATCH_SIZE, ' Hz frequency ...')\n",
    "    for i in range(len(data_checking)):\n",
    "        if total_samples > 0:\n",
    "            print('%5s: %2d%% (%2d/%2d)' % (\n",
    "                data_errors[i], 100.0 * data_checking[i] / total_samples,\n",
    "                np.sum(data_checking[i]), total_samples))\n",
    "        else:\n",
    "            raise Exception(\"No Data Samples found, please check db connection\")\n",
    "        \n",
    "    print('Mean Batch Length: %2.2f per Tripsecond ' % (total_length / total_samples))\n",
    "    \n",
    "    return np.array(x), np.array(y)\n",
    "\n",
    "\n",
    "X, Y = data_preparation(raw_data)"
   ],
   "metadata": {
    "collapsed": false,
    "ExecuteTime": {
     "end_time": "2023-11-10T07:27:10.001368Z",
     "start_time": "2023-11-10T07:27:09.851735Z"
    }
   },
   "id": "a0400ab1a9478850"
  },
  {
   "cell_type": "markdown",
   "source": [
    "### Training the Model"
   ],
   "metadata": {
    "collapsed": false
   },
   "id": "eb319204e1a5117d"
  },
  {
   "cell_type": "code",
   "execution_count": 10,
   "outputs": [],
   "source": [
    "import torch.nn.functional as F\n",
    "from torch.utils.data import TensorDataset, DataLoader\n",
    "\n",
    "\n",
    "def gen_dataloader(x, y, test_size=0.2, random_state=0):\n",
    "    scaler = MinMaxScaler()  # TODO: choose scaler\n",
    "    scaler.fit(x)\n",
    "    x = scaler.transform(x)\n",
    "\n",
    "    x = torch.tensor(x)\n",
    "    y = torch.tensor(y)\n",
    "\n",
    "    train_x, test_x, train_y, test_y = train_test_split(x, y, test_size=test_size, random_state=random_state)\n",
    "\n",
    "    train_x = torch.Tensor(train_x)\n",
    "    train_y = F.one_hot(train_y.long(), len(CLASSES)).to(torch.float32)\n",
    "\n",
    "    test_x = torch.Tensor(test_x)\n",
    "    test_y = F.one_hot(test_y.long(), len(CLASSES)).to(torch.float32)\n",
    "\n",
    "    train_dataset = TensorDataset(train_x, train_y)\n",
    "    test_dataset = TensorDataset(test_x, test_y)\n",
    "\n",
    "    train_loader = DataLoader(train_dataset)\n",
    "    test_loader = DataLoader(test_dataset)\n",
    "\n",
    "    return train_loader, test_loader\n",
    "\n",
    "\n",
    "train_loader, test_loader = gen_dataloader(X, Y)  # with default values"
   ],
   "metadata": {
    "collapsed": false,
    "ExecuteTime": {
     "end_time": "2023-11-10T07:30:04.340777Z",
     "start_time": "2023-11-10T07:30:04.334345Z"
    }
   },
   "id": "28a848b118514c84"
  },
  {
   "cell_type": "code",
   "execution_count": 11,
   "outputs": [
    {
     "name": "stdout",
     "output_type": "stream",
     "text": [
      "Training STARTED\n",
      "Epoch 10 Training Loss: 154.0774355828762\n",
      "Epoch 20 Training Loss: 138.07626065704972\n",
      "Epoch 30 Training Loss: 134.67150485608727\n",
      "Training FINISHED\n"
     ]
    }
   ],
   "source": [
    "from torch import optim\n",
    "\n",
    "LR = 1e-3\n",
    "MOMENTUM = 0.9\n",
    "NUM_EPOCHS = 30\n",
    "HIDDEN_LAYERS = 64 # TODO maybe increase with more data\n",
    "\n",
    "\n",
    "def train_model(model, train_loader, num_epochs=NUM_EPOCHS, lr=LR, momentum=MOMENTUM, device=None):\n",
    "    global n_cols\n",
    "    criterion = nn.CrossEntropyLoss()\n",
    "    # criterion = nn.MSELoss()\n",
    "    # criterion = nn.NLLLoss()\n",
    "\n",
    "    # optimizer = optim.SGD(model.parameters(), lr=lr, momentum=momentum)\n",
    "    optimizer = optim.Adam(model.parameters(), lr=lr)\n",
    "\n",
    "    print(\"Training STARTED\")\n",
    "\n",
    "    for e in range(0, num_epochs):\n",
    "        model.train()  # set the model in training mode\n",
    "        total_train_loss = 0  # initialize the total training and validation loss\n",
    "\n",
    "        for i, (training_input, target) in enumerate(train_loader):  # loop over the training set\n",
    "            hidden = model.initHidden()\n",
    "            model.zero_grad()\n",
    "\n",
    "            output = [.0, .0, .0, .0]\n",
    "            for data_row in training_input:\n",
    "                for i in range(0, len(data_row), n_cols):\n",
    "                    model_input = data_row[None, i:i + n_cols].float()\n",
    "                    output, hidden = model(model_input, hidden)\n",
    "\n",
    "            optimizer.zero_grad()\n",
    "            loss = criterion(output, target)\n",
    "            loss.backward()\n",
    "            optimizer.step()\n",
    "\n",
    "            # add the loss to the total training loss so far and calculate the number of correct predictions\n",
    "            total_train_loss += loss.item()\n",
    "\n",
    "        if (e + 1) % 10 == 0:\n",
    "            print(\"Epoch\", e + 1, \"Training Loss:\", total_train_loss)\n",
    "\n",
    "    print(\"Training FINISHED\")\n",
    "\n",
    "    return model, criterion\n",
    "\n",
    "\n",
    "model = sf.RNN(n_cols, HIDDEN_LAYERS, len(CLASSES))\n",
    "model, criterion = train_model(model=model, train_loader=train_loader)\n"
   ],
   "metadata": {
    "collapsed": false,
    "ExecuteTime": {
     "end_time": "2023-11-10T07:30:08.719069Z",
     "start_time": "2023-11-10T07:30:04.935773Z"
    }
   },
   "id": "e7b124385ff76145"
  },
  {
   "cell_type": "markdown",
   "source": [
    "## Testing"
   ],
   "metadata": {
    "collapsed": false
   },
   "id": "530667021e47b60d"
  },
  {
   "cell_type": "code",
   "execution_count": 12,
   "outputs": [
    {
     "name": "stdout",
     "output_type": "stream",
     "text": [
      "Training Loss: 0.514892\n",
      "\n",
      "Training Accuracy of asphalt: 40% (30/74)\n",
      "Training Accuracy of pavement: 93% (162/174)\n",
      "Training Accuracy of gravel: N/A \n",
      "Training Accuracy of  dirt: N/A \n",
      "Training Accuracy (Overall): 77% (192/248)\n"
     ]
    }
   ],
   "source": [
    "def print_training_accuracy(model, train_loader, criterion, classes):\n",
    "    training_loss, class_correct, class_total = util.compute_accuracy(model=model, loader=train_loader,\n",
    "                                                                      criterion=criterion)\n",
    "\n",
    "    # average training loss\n",
    "    training_loss = training_loss / len(train_loader.dataset)\n",
    "    print('Training Loss: {:.6f}\\n'.format(training_loss))\n",
    "    for i in range(len(classes)):\n",
    "        if class_total[i] > 0:\n",
    "            print('Training Accuracy of %5s: %2d%% (%2d/%2d)' % (\n",
    "                classes[i], 100.0 * class_correct[i] / class_total[i],\n",
    "                np.sum(class_correct[i]), np.sum(class_total[i])))\n",
    "        else:\n",
    "            print('Training Accuracy of %5s: N/A ' % (classes[i]))\n",
    "\n",
    "    print('Training Accuracy (Overall): %2d%% (%2d/%2d)' % (\n",
    "        100. * np.sum(class_correct) / np.sum(class_total),\n",
    "        np.sum(class_correct), np.sum(class_total)))\n",
    "\n",
    "\n",
    "print_training_accuracy(model=model, train_loader=train_loader, criterion=criterion, classes=CLASSES)"
   ],
   "metadata": {
    "collapsed": false,
    "ExecuteTime": {
     "end_time": "2023-11-10T07:30:09.996592Z",
     "start_time": "2023-11-10T07:30:09.929545Z"
    }
   },
   "id": "62ce83cb80d2b080"
  },
  {
   "cell_type": "code",
   "execution_count": 13,
   "outputs": [
    {
     "name": "stdout",
     "output_type": "stream",
     "text": [
      "Test Loss: 0.565422\n",
      "\n",
      "Test Accuracy of asphalt: 29% ( 5/17)\n",
      "Test Accuracy of pavement: 93% (42/45)\n",
      "Test Accuracy of gravel: N/A (no testing examples)\n",
      "Test Accuracy of  dirt: N/A (no testing examples)\n",
      "\n",
      "Test Accuracy (Overall): 75% (47/62)\n"
     ]
    }
   ],
   "source": [
    "def print_testing_accuracy(model, test_loader, classes, criterion):\n",
    "    test_loss, class_correct, class_total = util.compute_accuracy(model=model, loader=test_loader, criterion=criterion)\n",
    "\n",
    "    # average test loss\n",
    "    test_loss = test_loss / len(test_loader.dataset)\n",
    "    print('Test Loss: {:.6f}\\n'.format(test_loss))\n",
    "\n",
    "    for i in range(len(classes)):\n",
    "        if class_total[i] > 0:\n",
    "            print('Test Accuracy of %5s: %2d%% (%2d/%2d)' % (\n",
    "                classes[i], 100.0 * class_correct[i] / class_total[i],\n",
    "                np.sum(class_correct[i]), np.sum(class_total[i])))\n",
    "        else:\n",
    "            print('Test Accuracy of %5s: N/A (no testing examples)' % (classes[i]))\n",
    "\n",
    "    print('\\nTest Accuracy (Overall): %2d%% (%2d/%2d)' % (\n",
    "        100. * np.sum(class_correct) / np.sum(class_total),\n",
    "        np.sum(class_correct), np.sum(class_total)))\n",
    "\n",
    "\n",
    "print_testing_accuracy(model=model, test_loader=test_loader, criterion=criterion, classes=CLASSES)"
   ],
   "metadata": {
    "collapsed": false,
    "ExecuteTime": {
     "end_time": "2023-11-10T07:30:12.214650Z",
     "start_time": "2023-11-10T07:30:12.181229Z"
    }
   },
   "id": "d71d827209b64b7c"
  },
  {
   "cell_type": "code",
   "execution_count": null,
   "outputs": [],
   "source": [],
   "metadata": {
    "collapsed": false,
    "ExecuteTime": {
     "start_time": "2023-11-10T07:27:14.649734Z"
    }
   },
   "id": "c1d760bc157dbf09"
  }
 ],
 "metadata": {
  "kernelspec": {
   "display_name": "Python 3",
   "language": "python",
   "name": "python3"
  },
  "language_info": {
   "codemirror_mode": {
    "name": "ipython",
    "version": 2
   },
   "file_extension": ".py",
   "mimetype": "text/x-python",
   "name": "python",
   "nbconvert_exporter": "python",
   "pygments_lexer": "ipython2",
   "version": "2.7.6"
  }
 },
 "nbformat": 4,
 "nbformat_minor": 5
}
