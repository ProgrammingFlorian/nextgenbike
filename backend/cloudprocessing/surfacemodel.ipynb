{
 "cells": [
  {
   "cell_type": "code",
   "execution_count": null,
   "outputs": [],
   "source": [
    "import torch\n",
    "import torch.nn as nn\n",
    "import torch.optim as optim"
   ],
   "metadata": {
    "collapsed": false
   },
   "id": "2e7c4dbf55512178"
  },
  {
   "cell_type": "markdown",
   "source": [
    "### Data preparation\n",
    "extract current data from the database and prepare for processing"
   ],
   "metadata": {
    "collapsed": false
   },
   "id": "3acda61db2d57078"
  },
  {
   "cell_type": "code",
   "execution_count": null,
   "outputs": [],
   "source": [
    "from sklearn.preprocessing import MinMaxScaler\n",
    "from sklearn.model_selection import train_test_split\n",
    "from torch.utils.data import TensorDataset, DataLoader\n",
    "import torch.nn.functional as F\n",
    "\n",
    "CLASSES = []\n",
    "\n",
    "\n",
    "def data_preparation(dataset_t, test_size=0.2, random_state=0):\n",
    "    scaler = MinMaxScaler()  # TODO: choose scaler\n",
    "    scaler.fit(dataset_t.data)\n",
    "\n",
    "    y = scaler.transform(dataset_t.data)\n",
    "    x = dataset_t.target\n",
    "    train_x, test_x, train_y, test_y = train_test_split(x, y, test_size=test_size, random_state=random_state)\n",
    "\n",
    "    train_x = torch.Tensor(train_x)\n",
    "    train_y = F.one_hot(torch.tensor(train_y), len(CLASSES)).to(torch.float32)\n",
    "\n",
    "    test_x = torch.Tensor(test_x)\n",
    "    test_y = F.one_hot(torch.tensor(test_y), len(CLASSES)).to(torch.float32)  # TODO: choose encoding (one_hot, etc.)\n",
    "\n",
    "    train_dataset = TensorDataset(train_x, train_y)\n",
    "    test_dataset = TensorDataset(test_x, test_y)\n",
    "    train_loader_t = DataLoader(train_dataset)\n",
    "    test_loader_t = DataLoader(test_dataset)\n",
    "\n",
    "    return train_loader_t, test_loader_t\n"
   ],
   "metadata": {
    "collapsed": false
   },
   "id": "initial_id"
  },
  {
   "cell_type": "markdown",
   "source": [
    "### Training the Model"
   ],
   "metadata": {
    "collapsed": false
   },
   "id": "eb319204e1a5117d"
  },
  {
   "cell_type": "code",
   "execution_count": null,
   "outputs": [],
   "source": [
    "import pandas as pd\n",
    "\n",
    "LR = 1e-2\n",
    "MOMENTUM = 0.9\n",
    "NUM_EPOCHS = 100\n",
    "\n",
    "dataset = \"placeholder\"\n",
    "\n",
    "\n",
    "def start_ml(data):\n",
    "    global dataset\n",
    "    dataset = pd.DataFrame(data)\n",
    "\n",
    "\n",
    "train_loader, test_loader = data_preparation(dataset)  # with default values"
   ],
   "metadata": {
    "collapsed": false
   },
   "id": "70257c8aa32e228e"
  },
  {
   "cell_type": "code",
   "execution_count": null,
   "outputs": [],
   "source": [
    "import surfacemodelclass as sf\n",
    "\n",
    "\n",
    "def train_model(model, device, train_loader, num_epochs=100, lr=1e-3, momentum=0.9):\n",
    "    criterion = nn.CrossEntropyLoss()\n",
    "    # criterion = nn.MSELoss()\n",
    "\n",
    "    optimizer = optim.SGD(model.parameters(), lr=lr, momentum=momentum)\n",
    "    # optimizer = optim.Adam(model.parameters(), lr=lr)\n",
    "\n",
    "    print(\"Training STARTED\")\n",
    "    model.to(device)\n",
    "\n",
    "    for e in range(0, num_epochs):\n",
    "        model.train()  # set the model in training mode\n",
    "        total_train_loss = 0  # initialize the total training and validation loss\n",
    "\n",
    "        for i, (x, y) in enumerate(train_loader):  # loop over the training set\n",
    "            (x, y) = (x.to(device), y.to(torch.float32).to(device))  # send the input to the device\n",
    "            pred = model(x)  # perform a forward pass and calculate the training loss\n",
    "\n",
    "            loss = criterion(pred, y)\n",
    "\n",
    "            # zero out the gradients, perform the backpropagation step, and update the weights\n",
    "            optimizer.zero_grad()\n",
    "            loss.backward()\n",
    "            optimizer.step()\n",
    "            # add the loss to the total training loss so far and calculate the number of correct predictions\n",
    "            total_train_loss += loss\n",
    "\n",
    "        if (e + 1) % 10 == 0 | e == 0:\n",
    "            print(\"Epoch\", e, \"Training Loss:\", total_train_loss.item())\n",
    "\n",
    "        print(\"Training FINISHED\")\n",
    "\n",
    "    return model, criterion, optimizer\n",
    "\n",
    "\n",
    "model = sf.SurfaceModel()  # TODO: RNN\n",
    "device = torch.device(\"mps\" if torch.backends.mps.is_available() else \"cpu\")  # for testing on my Mac\n",
    "model, criterion, optimizer = train_model(model=model, device=device, train_loader=train_loader,\n",
    "                                          num_epochs=NUM_EPOCHS, lr=LR, momentum=MOMENTUM)\n"
   ],
   "metadata": {
    "collapsed": false
   },
   "id": "e7b124385ff76145"
  },
  {
   "cell_type": "markdown",
   "source": [
    "## Testing"
   ],
   "metadata": {
    "collapsed": false
   },
   "id": "530667021e47b60d"
  },
  {
   "cell_type": "code",
   "execution_count": null,
   "outputs": [],
   "source": [
    "import numpy as np\n",
    "import util"
   ],
   "metadata": {
    "collapsed": false
   },
   "id": "44ea3b85f8392ef1"
  },
  {
   "cell_type": "code",
   "execution_count": null,
   "outputs": [],
   "source": [
    "def print_training_accuracy(model, train_loader, criterion, classes,\n",
    "                            device=torch.device(\"mps\" if torch.backends.mps.is_available() else \"cpu\")\n",
    "                            ):\n",
    "    training_loss, class_correct, class_total = util.compute_accuracy(model, train_loader, device, criterion)\n",
    "\n",
    "    # average training loss\n",
    "    training_loss = training_loss / len(train_loader.dataset)\n",
    "    print('Training Loss: {:.6f}\\n'.format(training_loss))\n",
    "    for i in range(10):\n",
    "        if class_total[i] > 0:\n",
    "            print('Training Accuracy of %5s: %2d%% (%2d/%2d)' % (\n",
    "                classes[i], 100.0 * class_correct[i] / class_total[i],\n",
    "                np.sum(class_correct[i]), np.sum(class_total[i])))\n",
    "        else:\n",
    "            print('Training Accuracy of %5s: N/A ' % (classes[i]))\n",
    "\n",
    "    print('\\Training Accuracy (Overall): %2d%% (%2d/%2d)' % (\n",
    "        100. * np.sum(class_correct) / np.sum(class_total),\n",
    "        np.sum(class_correct), np.sum(class_total)))\n",
    "\n",
    "\n",
    "print_training_accuracy(model, train_loader, criterion, CLASSES, device)"
   ],
   "metadata": {
    "collapsed": false
   },
   "id": "62ce83cb80d2b080"
  },
  {
   "cell_type": "code",
   "execution_count": null,
   "outputs": [],
   "source": [
    "def print_testing_accuracy(model, test_loader, device, criterion, classes):\n",
    "    test_loss, class_correct, class_total = util.compute_accuracy(model, test_loader, device, criterion)\n",
    "\n",
    "    # average test loss\n",
    "    test_loss = test_loss / len(test_loader.dataset)\n",
    "    print('Test Loss: {:.6f}\\n'.format(test_loss))\n",
    "\n",
    "    for i in range(10):\n",
    "        if class_total[i] > 0:\n",
    "            print('Test Accuracy of %5s: %2d%% (%2d/%2d)' % (\n",
    "                classes[i], 100.0 * class_correct[i] / class_total[i],\n",
    "                np.sum(class_correct[i]), np.sum(class_total[i])))\n",
    "        else:\n",
    "            print('Test Accuracy of %5s: N/A (no training examples)' % (classes[i]))\n",
    "\n",
    "    print('\\nTest Accuracy (Overall): %2d%% (%2d/%2d)' % (\n",
    "        100. * np.sum(class_correct) / np.sum(class_total),\n",
    "        np.sum(class_correct), np.sum(class_total)))\n",
    "\n",
    "\n",
    "print_testing_accuracy(model, test_loader, criterion, CLASSES, device)"
   ],
   "metadata": {
    "collapsed": false
   },
   "id": "d71d827209b64b7c"
  }
 ],
 "metadata": {
  "kernelspec": {
   "display_name": "Python 3",
   "language": "python",
   "name": "python3"
  },
  "language_info": {
   "codemirror_mode": {
    "name": "ipython",
    "version": 2
   },
   "file_extension": ".py",
   "mimetype": "text/x-python",
   "name": "python",
   "nbconvert_exporter": "python",
   "pygments_lexer": "ipython2",
   "version": "2.7.6"
  }
 },
 "nbformat": 4,
 "nbformat_minor": 5
}
