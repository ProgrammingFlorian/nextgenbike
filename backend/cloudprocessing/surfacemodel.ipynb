{
 "cells": [
  {
   "cell_type": "code",
   "execution_count": 1,
   "outputs": [
    {
     "name": "stderr",
     "output_type": "stream",
     "text": [
      "/Users/maximilianrapp/PycharmProjects/nextgenbike/venv/lib/python3.9/site-packages/urllib3/__init__.py:34: NotOpenSSLWarning: urllib3 v2.0 only supports OpenSSL 1.1.1+, currently the 'ssl' module is compiled with 'LibreSSL 2.8.3'. See: https://github.com/urllib3/urllib3/issues/3020\n",
      "  warnings.warn(\n"
     ]
    }
   ],
   "source": [
    "import numpy as np\n",
    "import pandas as pd\n",
    "import torch\n",
    "import torch.nn as nn\n",
    "from sklearn.model_selection import train_test_split\n",
    "from sklearn.preprocessing import MinMaxScaler\n",
    "\n",
    "import backend.config as config\n",
    "import dataprocessing\n",
    "import surfacemodelclass as sf\n",
    "import util"
   ],
   "metadata": {
    "collapsed": false,
    "ExecuteTime": {
     "end_time": "2023-11-06T13:01:43.469250Z",
     "start_time": "2023-11-06T13:01:41.477615Z"
    }
   },
   "id": "2e7c4dbf55512178"
  },
  {
   "cell_type": "markdown",
   "source": [
    "### Data preparation\n",
    "extract current data from the database and prepare for processing"
   ],
   "metadata": {
    "collapsed": false
   },
   "id": "3acda61db2d57078"
  },
  {
   "cell_type": "code",
   "execution_count": 2,
   "outputs": [],
   "source": [
    "CLASSES = config.classes"
   ],
   "metadata": {
    "collapsed": false,
    "ExecuteTime": {
     "end_time": "2023-11-06T13:01:43.472568Z",
     "start_time": "2023-11-06T13:01:43.469225Z"
    }
   },
   "id": "initial_id"
  },
  {
   "cell_type": "code",
   "execution_count": 3,
   "outputs": [
    {
     "name": "stderr",
     "output_type": "stream",
     "text": [
      "/var/folders/q4/b_qkk2qx16zdglt42g7c0dlr0000gn/T/ipykernel_16746/1977948918.py:20: FutureWarning: Passing literal json to 'read_json' is deprecated and will be removed in a future version. To read from a literal string, wrap it in a 'StringIO' object.\n",
      "  df = pd.read_json(data)\n"
     ]
    },
    {
     "name": "stdout",
     "output_type": "stream",
     "text": [
      "N trip seconds: 100\n",
      "N trip seconds: 200\n"
     ]
    }
   ],
   "source": [
    "FAKE_DATE = pd.to_datetime(\"1.1.2000\")\n",
    "\n",
    "LR = 1e-2\n",
    "MOMENTUM = 0.9\n",
    "NUM_EPOCHS = 10\n",
    "HIDDEN_LAYERS = 128\n",
    "BATCH_SIZE = 20\n",
    "\n",
    "NORMALIZE_SIZE = False\n",
    "\n",
    "pavement_start = pd.Timestamp(year=2023, month=11, day=6, hour=18, minute=34)\n",
    "pavement_end = pd.Timestamp(year=2023, month=11, day=6, hour=18, minute=54)\n",
    "asphalt_start_1 = pd.Timestamp(year=2023, month=11, day=6, hour=19, minute=10)\n",
    "asphalt_end_1 = pd.Timestamp(year=2023, month=11, day=6, hour=19, minute=16)\n",
    "asphalt_start_2 = pd.Timestamp(year=2023, month=11, day=6, hour=19, minute=31)\n",
    "asphalt_end_2 = pd.Timestamp(year=2023, month=11, day=6, hour=19, minute=50)\n",
    "\n",
    "\n",
    "def data_preparation(data):\n",
    "    df = pd.read_json(data)\n",
    "\n",
    "    df['time'] = pd.to_datetime(df['time'], format='mixed')\n",
    "    for i, row in df.iterrows():\n",
    "        if (row.time >= pavement_start) and (row.time <= pavement_end):\n",
    "            df.at[i, 'terrain'] = config.map_to_int('pavement')\n",
    "        elif (row.time >= asphalt_start_1) and (row.time <= asphalt_end_1):\n",
    "            df.at[i, 'terrain'] = config.map_to_int('asphalt')\n",
    "        elif (row.time >= asphalt_start_2) and (row.time <= asphalt_end_2):\n",
    "            df.at[i, 'terrain'] = config.map_to_int('asphalt')\n",
    "\n",
    "    df.dropna(subset=['terrain'], inplace=True)\n",
    "\n",
    "    df['time_second'] = df.time.map(lambda x: pd.Timestamp(x).floor(freq='S'))\n",
    "    df['time'] = df.time.map(pd.Timestamp.timestamp)\n",
    "\n",
    "    grouped = df.groupby([df.trip_id, df.time_second])  # grouped.get_group(1)\n",
    "    x = []\n",
    "    y = []\n",
    "    for i, (trip_seconds, table) in enumerate(grouped):\n",
    "        if (i + 1) % 100 == 0:\n",
    "            print(\"N trip seconds: \" + str(i + 1))\n",
    "\n",
    "        train_input = table.drop(columns=['terrain', 'trip_id', 'crash', 'time_second', 'latitude', 'longitude'])\n",
    "        n_cols = len(train_input.columns)\n",
    "\n",
    "        train_input = train_input.to_numpy()\n",
    "\n",
    "        # multiindex = pd.MultiIndex.from_product(\n",
    "        #     [train_input['time_second'].unique(), train_input.time.to_list() [timedelta.min] * (20 - len(train_input.time))])\n",
    "        # train_input = train_input.set_index(['time_second', 'time']).reindex(multiindex)\n",
    "        # train_input = train_input.groupby(level=0).apply(lambda x: x.interpolate())\n",
    "\n",
    "        if NORMALIZE_SIZE:\n",
    "            n_missing_rows = 20 - len(train_input)\n",
    "            for _ in range(n_missing_rows):\n",
    "                fake_array = np.array([None] * n_cols)\n",
    "                np.append(train_input, fake_array)\n",
    "\n",
    "        train_target = table.terrain.min()\n",
    "\n",
    "        x.append(train_input)\n",
    "        y.append(train_target)\n",
    "\n",
    "    return x, y\n",
    "\n",
    "\n",
    "raw_data = dataprocessing.get_data_db()\n",
    "X, Y = data_preparation(raw_data)"
   ],
   "metadata": {
    "collapsed": false,
    "ExecuteTime": {
     "end_time": "2023-11-06T13:01:43.774721Z",
     "start_time": "2023-11-06T13:01:43.480358Z"
    }
   },
   "id": "a0400ab1a9478850"
  },
  {
   "cell_type": "markdown",
   "source": [
    "### Training the Model"
   ],
   "metadata": {
    "collapsed": false
   },
   "id": "eb319204e1a5117d"
  },
  {
   "cell_type": "code",
   "execution_count": 4,
   "outputs": [],
   "source": [
    "def flatten(l):\n",
    "    return [item for sublist in l for item in sublist]"
   ],
   "metadata": {
    "collapsed": false,
    "ExecuteTime": {
     "end_time": "2023-11-06T13:01:43.774804Z",
     "start_time": "2023-11-06T13:01:43.773422Z"
    }
   },
   "id": "f350fcc15fa28e59"
  },
  {
   "cell_type": "code",
   "execution_count": 5,
   "outputs": [],
   "source": [
    "def to_loader(x, y):\n",
    "    return list(zip(x, y))"
   ],
   "metadata": {
    "collapsed": false,
    "ExecuteTime": {
     "end_time": "2023-11-06T13:01:43.778228Z",
     "start_time": "2023-11-06T13:01:43.776679Z"
    }
   },
   "id": "d34f60eb7bb9bc44"
  },
  {
   "cell_type": "code",
   "execution_count": 6,
   "outputs": [],
   "source": [
    "def gen_dataloader(x, y, test_size=0.2, random_state=0):\n",
    "    scaler = MinMaxScaler()  # TODO: choose scaler\n",
    "    scaler.fit(flatten(x))  # TODO: transform data without trip_id\n",
    "\n",
    "    # x = torch.tensor(x)\n",
    "    # y = torch.tensor(y)\n",
    "    train_x, test_x, train_y, test_y = train_test_split(x, y, test_size=test_size, random_state=random_state)\n",
    "\n",
    "    # train_x = torch.Tensor(train_x).to(torch.float32)\n",
    "    # train_y = F.one_hot(torch.Tensor(train_y), len(CLASSES)).to(torch.float32)\n",
    "\n",
    "    # test_x = torch.Tensor(test_x).to(torch.float32)\n",
    "    # test_y = F.one_hot(torch.Tensor(test_y), len(CLASSES)).to(torch.float32)\n",
    "\n",
    "    # train_dataset = TensorDataset(train_x, train_y)\n",
    "    # test_dataset = TensorDataset(test_x, test_y)\n",
    "    # train_loader_t = DataLoader(train_dataset)\n",
    "    # test_loader_t = DataLoader(test_dataset)\n",
    "\n",
    "    return to_loader(train_x, train_y), to_loader(test_x, test_y), scaler\n",
    "\n",
    "\n",
    "train_loader, test_loader, scaler = gen_dataloader(X, Y)  # with default values"
   ],
   "metadata": {
    "collapsed": false,
    "ExecuteTime": {
     "end_time": "2023-11-06T13:01:43.783437Z",
     "start_time": "2023-11-06T13:01:43.780393Z"
    }
   },
   "id": "28a848b118514c84"
  },
  {
   "cell_type": "code",
   "execution_count": 7,
   "outputs": [
    {
     "name": "stdout",
     "output_type": "stream",
     "text": [
      "Training STARTED\n",
      "()\n",
      "tensor([ 1.6993e+09,  0.0000e+00,  2.5600e+02,  3.8000e+01, -3.3000e+01,\n",
      "        -1.6000e+01,  6.5000e+01, -8.0000e+00], dtype=torch.float64)\n"
     ]
    },
    {
     "ename": "IndexError",
     "evalue": "Dimension out of range (expected to be in range of [-1, 0], but got 1)",
     "output_type": "error",
     "traceback": [
      "\u001B[0;31m---------------------------------------------------------------------------\u001B[0m",
      "\u001B[0;31mIndexError\u001B[0m                                Traceback (most recent call last)",
      "Cell \u001B[0;32mIn[7], line 50\u001B[0m\n\u001B[1;32m     48\u001B[0m model \u001B[38;5;241m=\u001B[39m sf\u001B[38;5;241m.\u001B[39mRNN(BATCH_SIZE, HIDDEN_LAYERS, \u001B[38;5;28mlen\u001B[39m(CLASSES))\n\u001B[1;32m     49\u001B[0m device \u001B[38;5;241m=\u001B[39m torch\u001B[38;5;241m.\u001B[39mdevice(\u001B[38;5;124m\"\u001B[39m\u001B[38;5;124mmps\u001B[39m\u001B[38;5;124m\"\u001B[39m \u001B[38;5;28;01mif\u001B[39;00m torch\u001B[38;5;241m.\u001B[39mbackends\u001B[38;5;241m.\u001B[39mmps\u001B[38;5;241m.\u001B[39mis_available() \u001B[38;5;28;01melse\u001B[39;00m \u001B[38;5;124m\"\u001B[39m\u001B[38;5;124mcpu\u001B[39m\u001B[38;5;124m\"\u001B[39m)  \u001B[38;5;66;03m# for testing on my Mac\u001B[39;00m\n\u001B[0;32m---> 50\u001B[0m model, criterion, optimizer \u001B[38;5;241m=\u001B[39m \u001B[43mtrain_model\u001B[49m\u001B[43m(\u001B[49m\u001B[43mmodel\u001B[49m\u001B[38;5;241;43m=\u001B[39;49m\u001B[43mmodel\u001B[49m\u001B[43m,\u001B[49m\u001B[43m \u001B[49m\u001B[43mdevice\u001B[49m\u001B[38;5;241;43m=\u001B[39;49m\u001B[43mdevice\u001B[49m\u001B[43m,\u001B[49m\u001B[43m \u001B[49m\u001B[43mtrain_loader\u001B[49m\u001B[38;5;241;43m=\u001B[39;49m\u001B[43mtrain_loader\u001B[49m\u001B[43m,\u001B[49m\u001B[43m \u001B[49m\u001B[43mscaler\u001B[49m\u001B[38;5;241;43m=\u001B[39;49m\u001B[43mscaler\u001B[49m\u001B[43m)\u001B[49m\n",
      "Cell \u001B[0;32mIn[7], line 28\u001B[0m, in \u001B[0;36mtrain_model\u001B[0;34m(model, device, train_loader, scaler, num_epochs, lr, momentum)\u001B[0m\n\u001B[1;32m     26\u001B[0m     \u001B[38;5;28minput\u001B[39m \u001B[38;5;241m=\u001B[39m torch\u001B[38;5;241m.\u001B[39mtensor([ \u001B[38;5;241m1.6993e+09\u001B[39m,  \u001B[38;5;241m0.0000e+00\u001B[39m,  \u001B[38;5;241m2.5600e+02\u001B[39m,  \u001B[38;5;241m3.8000e+01\u001B[39m, \u001B[38;5;241m-\u001B[39m\u001B[38;5;241m3.3000e+01\u001B[39m, \u001B[38;5;241m-\u001B[39m\u001B[38;5;241m1.6000e+01\u001B[39m,  \u001B[38;5;241m6.5000e+01\u001B[39m, \u001B[38;5;241m-\u001B[39m\u001B[38;5;241m8.0000e+00\u001B[39m], dtype\u001B[38;5;241m=\u001B[39mtorch\u001B[38;5;241m.\u001B[39mfloat64)\n\u001B[1;32m     27\u001B[0m     \u001B[38;5;28mprint\u001B[39m(\u001B[38;5;28minput\u001B[39m)\n\u001B[0;32m---> 28\u001B[0m     output, hidden \u001B[38;5;241m=\u001B[39m \u001B[43mmodel\u001B[49m\u001B[43m(\u001B[49m\u001B[38;5;28;43minput\u001B[39;49m\u001B[43m,\u001B[49m\u001B[43m \u001B[49m\u001B[43mhidden\u001B[49m\u001B[43m)\u001B[49m\n\u001B[1;32m     30\u001B[0m loss \u001B[38;5;241m=\u001B[39m criterion(output, target)\n\u001B[1;32m     31\u001B[0m loss\u001B[38;5;241m.\u001B[39mbackward()\n",
      "File \u001B[0;32m~/PycharmProjects/nextgenbike/venv/lib/python3.9/site-packages/torch/nn/modules/module.py:1518\u001B[0m, in \u001B[0;36mModule._wrapped_call_impl\u001B[0;34m(self, *args, **kwargs)\u001B[0m\n\u001B[1;32m   1516\u001B[0m     \u001B[38;5;28;01mreturn\u001B[39;00m \u001B[38;5;28mself\u001B[39m\u001B[38;5;241m.\u001B[39m_compiled_call_impl(\u001B[38;5;241m*\u001B[39margs, \u001B[38;5;241m*\u001B[39m\u001B[38;5;241m*\u001B[39mkwargs)  \u001B[38;5;66;03m# type: ignore[misc]\u001B[39;00m\n\u001B[1;32m   1517\u001B[0m \u001B[38;5;28;01melse\u001B[39;00m:\n\u001B[0;32m-> 1518\u001B[0m     \u001B[38;5;28;01mreturn\u001B[39;00m \u001B[38;5;28;43mself\u001B[39;49m\u001B[38;5;241;43m.\u001B[39;49m\u001B[43m_call_impl\u001B[49m\u001B[43m(\u001B[49m\u001B[38;5;241;43m*\u001B[39;49m\u001B[43margs\u001B[49m\u001B[43m,\u001B[49m\u001B[43m \u001B[49m\u001B[38;5;241;43m*\u001B[39;49m\u001B[38;5;241;43m*\u001B[39;49m\u001B[43mkwargs\u001B[49m\u001B[43m)\u001B[49m\n",
      "File \u001B[0;32m~/PycharmProjects/nextgenbike/venv/lib/python3.9/site-packages/torch/nn/modules/module.py:1527\u001B[0m, in \u001B[0;36mModule._call_impl\u001B[0;34m(self, *args, **kwargs)\u001B[0m\n\u001B[1;32m   1522\u001B[0m \u001B[38;5;66;03m# If we don't have any hooks, we want to skip the rest of the logic in\u001B[39;00m\n\u001B[1;32m   1523\u001B[0m \u001B[38;5;66;03m# this function, and just call forward.\u001B[39;00m\n\u001B[1;32m   1524\u001B[0m \u001B[38;5;28;01mif\u001B[39;00m \u001B[38;5;129;01mnot\u001B[39;00m (\u001B[38;5;28mself\u001B[39m\u001B[38;5;241m.\u001B[39m_backward_hooks \u001B[38;5;129;01mor\u001B[39;00m \u001B[38;5;28mself\u001B[39m\u001B[38;5;241m.\u001B[39m_backward_pre_hooks \u001B[38;5;129;01mor\u001B[39;00m \u001B[38;5;28mself\u001B[39m\u001B[38;5;241m.\u001B[39m_forward_hooks \u001B[38;5;129;01mor\u001B[39;00m \u001B[38;5;28mself\u001B[39m\u001B[38;5;241m.\u001B[39m_forward_pre_hooks\n\u001B[1;32m   1525\u001B[0m         \u001B[38;5;129;01mor\u001B[39;00m _global_backward_pre_hooks \u001B[38;5;129;01mor\u001B[39;00m _global_backward_hooks\n\u001B[1;32m   1526\u001B[0m         \u001B[38;5;129;01mor\u001B[39;00m _global_forward_hooks \u001B[38;5;129;01mor\u001B[39;00m _global_forward_pre_hooks):\n\u001B[0;32m-> 1527\u001B[0m     \u001B[38;5;28;01mreturn\u001B[39;00m \u001B[43mforward_call\u001B[49m\u001B[43m(\u001B[49m\u001B[38;5;241;43m*\u001B[39;49m\u001B[43margs\u001B[49m\u001B[43m,\u001B[49m\u001B[43m \u001B[49m\u001B[38;5;241;43m*\u001B[39;49m\u001B[38;5;241;43m*\u001B[39;49m\u001B[43mkwargs\u001B[49m\u001B[43m)\u001B[49m\n\u001B[1;32m   1529\u001B[0m \u001B[38;5;28;01mtry\u001B[39;00m:\n\u001B[1;32m   1530\u001B[0m     result \u001B[38;5;241m=\u001B[39m \u001B[38;5;28;01mNone\u001B[39;00m\n",
      "File \u001B[0;32m~/PycharmProjects/nextgenbike/backend/cloudprocessing/surfacemodelclass.py:16\u001B[0m, in \u001B[0;36mRNN.forward\u001B[0;34m(self, input, hidden)\u001B[0m\n\u001B[1;32m     15\u001B[0m \u001B[38;5;28;01mdef\u001B[39;00m \u001B[38;5;21mforward\u001B[39m(\u001B[38;5;28mself\u001B[39m, \u001B[38;5;28minput\u001B[39m, hidden):\n\u001B[0;32m---> 16\u001B[0m     combined \u001B[38;5;241m=\u001B[39m \u001B[43mtorch\u001B[49m\u001B[38;5;241;43m.\u001B[39;49m\u001B[43mcat\u001B[49m\u001B[43m(\u001B[49m\u001B[43m(\u001B[49m\u001B[38;5;28;43minput\u001B[39;49m\u001B[43m,\u001B[49m\u001B[43m \u001B[49m\u001B[43mhidden\u001B[49m\u001B[43m)\u001B[49m\u001B[43m,\u001B[49m\u001B[43m \u001B[49m\u001B[38;5;241;43m1\u001B[39;49m\u001B[43m)\u001B[49m\n\u001B[1;32m     17\u001B[0m     hidden \u001B[38;5;241m=\u001B[39m \u001B[38;5;28mself\u001B[39m\u001B[38;5;241m.\u001B[39mi2h(combined)\n\u001B[1;32m     18\u001B[0m     output \u001B[38;5;241m=\u001B[39m \u001B[38;5;28mself\u001B[39m\u001B[38;5;241m.\u001B[39mh2o(hidden)\n",
      "\u001B[0;31mIndexError\u001B[0m: Dimension out of range (expected to be in range of [-1, 0], but got 1)"
     ]
    }
   ],
   "source": [
    "def train_model(model, device, train_loader, scaler, num_epochs=NUM_EPOCHS, lr=LR, momentum=MOMENTUM):\n",
    "    # criterion = nn.CrossEntropyLoss()\n",
    "    # criterion = nn.MSELoss()\n",
    "    criterion = nn.NLLLoss()\n",
    "\n",
    "    # optimizer = optim.SGD(model.parameters(), lr=lr, momentum=momentum)\n",
    "    # optimizer = optim.Adam(model.parameters(), lr=lr)\n",
    "\n",
    "    print(\"Training STARTED\")\n",
    "    model.to(device)\n",
    "\n",
    "    for e in range(0, num_epochs):\n",
    "        model.train()  # set the model in training mode\n",
    "        total_train_loss = 0  # initialize the total training and validation loss\n",
    "\n",
    "        for i, (training_input, target) in enumerate(train_loader):  # loop over the training set\n",
    "            hidden = model.initHidden()\n",
    "            model.zero_grad()\n",
    "\n",
    "            print(target.shape)\n",
    "\n",
    "            output = .0\n",
    "            for data_row in training_input:\n",
    "                # input = scaler.transform(training_input[data_row])\n",
    "                input = torch.tensor(data_row)\n",
    "                input = torch.tensor([ 1.6993e+09,  0.0000e+00,  2.5600e+02,  3.8000e+01, -3.3000e+01, -1.6000e+01,  6.5000e+01, -8.0000e+00], dtype=torch.float64)\n",
    "                print(input)\n",
    "                output, hidden = model(input, hidden)\n",
    "                    \n",
    "            loss = criterion(output, target)\n",
    "            loss.backward()\n",
    "\n",
    "            for p in model.parameters():\n",
    "                p.data.add_(p.grad.data, alpha=-lr)\n",
    "\n",
    "            # optimizer.step()\n",
    "            # add the loss to the total training loss so far and calculate the number of correct predictions\n",
    "            total_train_loss += loss.item()\n",
    "\n",
    "        if (e + 1) % 10 == 0 | e == 0:\n",
    "            print(\"Epoch\", e, \"Training Loss:\", total_train_loss.item())\n",
    "\n",
    "        print(\"Training FINISHED\")\n",
    "\n",
    "    return model, criterion, optimizer\n",
    "\n",
    "\n",
    "model = sf.RNN(BATCH_SIZE, HIDDEN_LAYERS, len(CLASSES))\n",
    "device = torch.device(\"mps\" if torch.backends.mps.is_available() else \"cpu\")  # for testing on my Mac\n",
    "model, criterion, optimizer = train_model(model=model, device=device, train_loader=train_loader, scaler=scaler)\n"
   ],
   "metadata": {
    "collapsed": false,
    "ExecuteTime": {
     "end_time": "2023-11-06T13:01:44.093339Z",
     "start_time": "2023-11-06T13:01:43.787346Z"
    }
   },
   "id": "e7b124385ff76145"
  },
  {
   "cell_type": "markdown",
   "source": [
    "## Testing"
   ],
   "metadata": {
    "collapsed": false
   },
   "id": "530667021e47b60d"
  },
  {
   "cell_type": "code",
   "execution_count": null,
   "outputs": [],
   "source": [
    "def print_training_accuracy(model, train_loader, criterion, classes,\n",
    "                            device=torch.device(\"mps\" if torch.backends.mps.is_available() else \"cpu\")\n",
    "                            ):\n",
    "    training_loss, class_correct, class_total = util.compute_accuracy(model, train_loader, device, criterion)\n",
    "\n",
    "    # average training loss\n",
    "    training_loss = training_loss / len(train_loader.dataset)\n",
    "    print('Training Loss: {:.6f}\\n'.format(training_loss))\n",
    "    for i in range(10):\n",
    "        if class_total[i] > 0:\n",
    "            print('Training Accuracy of %5s: %2d%% (%2d/%2d)' % (\n",
    "                classes[i], 100.0 * class_correct[i] / class_total[i],\n",
    "                np.sum(class_correct[i]), np.sum(class_total[i])))\n",
    "        else:\n",
    "            print('Training Accuracy of %5s: N/A ' % (classes[i]))\n",
    "\n",
    "    print('\\Training Accuracy (Overall): %2d%% (%2d/%2d)' % (\n",
    "        100. * np.sum(class_correct) / np.sum(class_total),\n",
    "        np.sum(class_correct), np.sum(class_total)))\n",
    "\n",
    "\n",
    "print_training_accuracy(model, train_loader, criterion, CLASSES, device)"
   ],
   "metadata": {
    "collapsed": false,
    "ExecuteTime": {
     "end_time": "2023-11-06T13:01:44.096247Z",
     "start_time": "2023-11-06T13:01:44.094722Z"
    }
   },
   "id": "62ce83cb80d2b080"
  },
  {
   "cell_type": "code",
   "execution_count": null,
   "outputs": [],
   "source": [
    "def print_testing_accuracy(model, test_loader, device, criterion, classes):\n",
    "    test_loss, class_correct, class_total = util.compute_accuracy(model, test_loader, device, criterion)\n",
    "\n",
    "    # average test loss\n",
    "    test_loss = test_loss / len(test_loader.dataset)\n",
    "    print('Test Loss: {:.6f}\\n'.format(test_loss))\n",
    "\n",
    "    for i in range(10):\n",
    "        if class_total[i] > 0:\n",
    "            print('Test Accuracy of %5s: %2d%% (%2d/%2d)' % (\n",
    "                classes[i], 100.0 * class_correct[i] / class_total[i],\n",
    "                np.sum(class_correct[i]), np.sum(class_total[i])))\n",
    "        else:\n",
    "            print('Test Accuracy of %5s: N/A (no training examples)' % (classes[i]))\n",
    "\n",
    "    print('\\nTest Accuracy (Overall): %2d%% (%2d/%2d)' % (\n",
    "        100. * np.sum(class_correct) / np.sum(class_total),\n",
    "        np.sum(class_correct), np.sum(class_total)))\n",
    "\n",
    "\n",
    "print_testing_accuracy(model, test_loader, criterion, CLASSES, device)"
   ],
   "metadata": {
    "collapsed": false,
    "ExecuteTime": {
     "start_time": "2023-11-06T13:01:44.095741Z"
    }
   },
   "id": "d71d827209b64b7c"
  }
 ],
 "metadata": {
  "kernelspec": {
   "display_name": "Python 3",
   "language": "python",
   "name": "python3"
  },
  "language_info": {
   "codemirror_mode": {
    "name": "ipython",
    "version": 2
   },
   "file_extension": ".py",
   "mimetype": "text/x-python",
   "name": "python",
   "nbconvert_exporter": "python",
   "pygments_lexer": "ipython2",
   "version": "2.7.6"
  }
 },
 "nbformat": 4,
 "nbformat_minor": 5
}
