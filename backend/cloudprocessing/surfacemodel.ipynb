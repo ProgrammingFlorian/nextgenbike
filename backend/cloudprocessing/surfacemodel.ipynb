{
 "cells": [
  {
   "cell_type": "code",
   "execution_count": 40,
   "outputs": [],
   "source": [
    "import numpy as np\n",
    "import pandas as pd\n",
    "import torch\n",
    "import torch.nn as nn\n",
    "from sklearn.model_selection import train_test_split\n",
    "from sklearn.preprocessing import MinMaxScaler\n",
    "\n",
    "import backend.config as config\n",
    "import dataprocessing\n",
    "import surfacemodelclass as sf\n",
    "import util"
   ],
   "metadata": {
    "collapsed": false,
    "ExecuteTime": {
     "end_time": "2023-11-13T16:29:05.820195Z",
     "start_time": "2023-11-13T16:29:05.805721Z"
    }
   },
   "id": "2e7c4dbf55512178"
  },
  {
   "cell_type": "markdown",
   "source": [
    "### Data preparation\n",
    "extract current data from the database and prepare for processing"
   ],
   "metadata": {
    "collapsed": false
   },
   "id": "3acda61db2d57078"
  },
  {
   "cell_type": "code",
   "execution_count": 41,
   "outputs": [
    {
     "name": "stderr",
     "output_type": "stream",
     "text": [
      "/var/folders/q4/b_qkk2qx16zdglt42g7c0dlr0000gn/T/ipykernel_7181/1893896778.py:12: FutureWarning: Passing literal json to 'read_json' is deprecated and will be removed in a future version. To read from a literal string, wrap it in a 'StringIO' object.\n",
      "  df = pd.read_json(raw_data)\n"
     ]
    }
   ],
   "source": [
    "from requests.exceptions import ChunkedEncodingError\n",
    "\n",
    "CLASSES = config.classes\n",
    "\n",
    "raw_data = \"\"\n",
    "while raw_data == \"\":\n",
    "    try:\n",
    "        raw_data = dataprocessing.get_data_db()\n",
    "    except ChunkedEncodingError:\n",
    "        print(\"Couldn't get Data, retrying ...\")\n",
    "\n",
    "df = pd.read_json(raw_data)"
   ],
   "metadata": {
    "collapsed": false,
    "ExecuteTime": {
     "end_time": "2023-11-13T16:29:06.046636Z",
     "start_time": "2023-11-13T16:29:05.811968Z"
    }
   },
   "id": "initial_id"
  },
  {
   "cell_type": "code",
   "execution_count": 42,
   "outputs": [
    {
     "name": "stdout",
     "output_type": "stream",
     "text": [
      "Asphalt Data points:  305\n",
      "Pavement Data points:  752\n",
      "Grass Data points:  81\n"
     ]
    }
   ],
   "source": [
    "def pre_processing(dataframe):\n",
    "    # cycling session 06.11.2023\n",
    "    pavement_start = pd.Timestamp(year=2023, month=11, day=6, hour=18, minute=33)\n",
    "    pavement_end = pd.Timestamp(year=2023, month=11, day=6, hour=18, minute=55)\n",
    "    asphalt_start_1 = pd.Timestamp(year=2023, month=11, day=6, hour=19, minute=9)\n",
    "    asphalt_end_1 = pd.Timestamp(year=2023, month=11, day=6, hour=19, minute=17)\n",
    "    asphalt_start_2 = pd.Timestamp(year=2023, month=11, day=6, hour=19, minute=31)\n",
    "    asphalt_end_2 = pd.Timestamp(year=2023, month=11, day=6, hour=20, minute=00)\n",
    "\n",
    "    #cycling session 09.11.2023\n",
    "    asphalt_start_3 = pd.Timestamp(year=2023, month=11, day=9, hour=20, minute=20)\n",
    "    asphalt_end_3 = pd.Timestamp(year=2023, month=11, day=9, hour=21, minute=0)\n",
    "    pavement_start_2 = pd.Timestamp(year=2023, month=11, day=9, hour=21, minute=5)\n",
    "    pavement_end_2 = pd.Timestamp(year=2023, month=11, day=9, hour=21, minute=30)\n",
    "\n",
    "    #cycling session 13.11.2023\n",
    "    grass_start = pd.Timestamp(year=2023, month=11, day=13, hour=20, minute=00)\n",
    "    grass_end = pd.Timestamp(year=2023, month=11, day=13, hour=20, minute=20)\n",
    "\n",
    "    asphalt_count = 0\n",
    "    pavement_count = 0\n",
    "    grass_count = 0\n",
    "\n",
    "    dataframe['time'] = pd.to_datetime(dataframe['time'], format='mixed')\n",
    "    for i, row in dataframe.iterrows():\n",
    "        if pavement_start <= row.time <= pavement_end or pavement_start_2 <= row.time <= pavement_end_2:\n",
    "            dataframe.at[i, 'terrain'] = config.map_to_int('pavement')\n",
    "            pavement_count += 1\n",
    "        elif asphalt_start_1 <= row.time <= asphalt_end_1 or asphalt_start_2 <= row.time <= asphalt_end_2 or asphalt_start_3 <= row.time <= asphalt_end_3:\n",
    "            dataframe.at[i, 'terrain'] = config.map_to_int('asphalt')\n",
    "            asphalt_count += 1\n",
    "        elif grass_start <= row.time <= grass_end:\n",
    "            dataframe.at[i, 'terrain'] = config.map_to_int('grass')\n",
    "            grass_count += 1\n",
    "\n",
    "    print(\"Asphalt Data points: \", asphalt_count)\n",
    "    print(\"Pavement Data points: \", pavement_count)\n",
    "    print(\"Grass Data points: \", grass_count)\n",
    "\n",
    "    return dataframe\n",
    "\n",
    "\n",
    "df = pre_processing(df)"
   ],
   "metadata": {
    "collapsed": false,
    "ExecuteTime": {
     "end_time": "2023-11-13T16:29:06.153198Z",
     "start_time": "2023-11-13T16:29:06.058279Z"
    }
   },
   "id": "7302fcc9477fce"
  },
  {
   "cell_type": "code",
   "execution_count": 43,
   "outputs": [
    {
     "name": "stdout",
     "output_type": "stream",
     "text": [
      "# trip seconds: 100\n",
      "# trip seconds: 200\n",
      "# trip seconds: 300\n",
      "Printing Data Accuracy to  10  Hz frequency ...\n",
      " GOOD:  0% ( 0/332)\n",
      " LONG:  0% ( 0/332)\n",
      "SHORT: 100% (332/332)\n",
      "Mean Batch Length: 3.43 per Tripsecond \n"
     ]
    }
   ],
   "source": [
    "BATCH_SIZE = 10\n",
    "n_cols = 8\n",
    "\n",
    "\n",
    "def data_preparation(df):\n",
    "    global n_cols\n",
    "\n",
    "    df.dropna(subset=['terrain'], inplace=True)\n",
    "\n",
    "    df['time_second'] = df.time.map(lambda x: pd.Timestamp(x).floor(freq='S'))\n",
    "    df['time'] = df.time.map(pd.Timestamp.timestamp)\n",
    "\n",
    "    grouped = df.groupby([df.trip_id, df.time_second])  # grouped.get_group(1)\n",
    "    x = []\n",
    "    y = []\n",
    "\n",
    "    # data verification\n",
    "    data_errors = ['GOOD', 'LONG', 'SHORT']\n",
    "    data_checking = [0, 0, 0]\n",
    "    total_samples = 0\n",
    "    total_length = 0\n",
    "\n",
    "    for i, (trip_seconds, table) in enumerate(grouped):\n",
    "        if (i + 1) % 100 == 0:\n",
    "            print(\"# trip seconds: \" + str(i + 1))\n",
    "\n",
    "        train_input = table.drop(columns=['terrain', 'trip_id', 'crash', 'time_second', 'latitude', 'longitude'])\n",
    "        n_cols = len(train_input.columns)\n",
    "\n",
    "        train_input = train_input.to_numpy()\n",
    "\n",
    "        input_length = len(train_input)\n",
    "        total_length += input_length\n",
    "        if input_length == BATCH_SIZE:\n",
    "            data_checking[0] += 1\n",
    "        elif input_length > BATCH_SIZE:\n",
    "            data_checking[1] += 1\n",
    "            train_input = train_input[:BATCH_SIZE]\n",
    "        else:\n",
    "            data_checking[2] += 1\n",
    "            n_missing_rows = BATCH_SIZE - len(train_input)\n",
    "            for _ in range(n_missing_rows):\n",
    "                fake_array = [1] * n_cols\n",
    "                train_input = np.append(train_input, fake_array)\n",
    "\n",
    "        train_target = table.terrain.min()\n",
    "\n",
    "        x.append(train_input)\n",
    "        y.append(train_target)\n",
    "        total_samples += 1\n",
    "\n",
    "    print('Printing Data Accuracy to ', BATCH_SIZE, ' Hz frequency ...')\n",
    "    for i in range(len(data_checking)):\n",
    "        if total_samples > 0:\n",
    "            print('%5s: %2d%% (%2d/%2d)' % (\n",
    "                data_errors[i], 100.0 * data_checking[i] / total_samples,\n",
    "                np.sum(data_checking[i]), total_samples))\n",
    "        else:\n",
    "            raise Exception(\"No Data Samples found, please check db connection\")\n",
    "\n",
    "    print('Mean Batch Length: %2.2f per Tripsecond ' % (total_length / total_samples))\n",
    "\n",
    "    return np.array(x), np.array(y)\n",
    "\n",
    "\n",
    "X, Y = data_preparation(df)"
   ],
   "metadata": {
    "collapsed": false,
    "ExecuteTime": {
     "end_time": "2023-11-13T16:29:06.241283Z",
     "start_time": "2023-11-13T16:29:06.184084Z"
    }
   },
   "id": "a0400ab1a9478850"
  },
  {
   "cell_type": "markdown",
   "source": [
    "### Training the Model"
   ],
   "metadata": {
    "collapsed": false
   },
   "id": "eb319204e1a5117d"
  },
  {
   "cell_type": "code",
   "execution_count": 44,
   "outputs": [],
   "source": [
    "import torch.nn.functional as F\n",
    "from torch.utils.data import TensorDataset, DataLoader\n",
    "\n",
    "\n",
    "def gen_dataloader(x, y, test_size=0.2, random_state=0):\n",
    "    scaler = MinMaxScaler()  # TODO: choose scaler\n",
    "    scaler.fit(x)\n",
    "    x = scaler.transform(x)\n",
    "\n",
    "    x = torch.tensor(x)\n",
    "    y = torch.tensor(y)\n",
    "\n",
    "    train_x, test_x, train_y, test_y = train_test_split(x, y, test_size=test_size, random_state=random_state)\n",
    "\n",
    "    train_x = torch.Tensor(train_x)\n",
    "    train_y = F.one_hot(train_y.long(), len(CLASSES)).to(torch.float32)\n",
    "\n",
    "    test_x = torch.Tensor(test_x)\n",
    "    test_y = F.one_hot(test_y.long(), len(CLASSES)).to(torch.float32)\n",
    "\n",
    "    train_dataset = TensorDataset(train_x, train_y)\n",
    "    test_dataset = TensorDataset(test_x, test_y)\n",
    "\n",
    "    train_loader = DataLoader(train_dataset)\n",
    "    test_loader = DataLoader(test_dataset)\n",
    "\n",
    "    return train_loader, test_loader\n",
    "\n",
    "\n",
    "train_loader, test_loader = gen_dataloader(X, Y)  # with default values"
   ],
   "metadata": {
    "collapsed": false,
    "ExecuteTime": {
     "end_time": "2023-11-13T16:29:06.245523Z",
     "start_time": "2023-11-13T16:29:06.242428Z"
    }
   },
   "id": "28a848b118514c84"
  },
  {
   "cell_type": "code",
   "execution_count": 45,
   "outputs": [
    {
     "name": "stdout",
     "output_type": "stream",
     "text": [
      "Training STARTED\n",
      "Epoch 10 Training Loss: 158.58728707518458\n",
      "Epoch 20 Training Loss: 150.1373824167531\n",
      "Epoch 30 Training Loss: 138.99942346639\n",
      "Training FINISHED\n"
     ]
    }
   ],
   "source": [
    "from torch import optim\n",
    "\n",
    "LR = 1e-3\n",
    "MOMENTUM = 0.9\n",
    "NUM_EPOCHS = 30\n",
    "HIDDEN_LAYERS = 64  # TODO maybe increase with more data\n",
    "\n",
    "\n",
    "def train_model(model, train_loader, num_epochs=NUM_EPOCHS, lr=LR, momentum=MOMENTUM, device=None):\n",
    "    global n_cols\n",
    "    criterion = nn.CrossEntropyLoss()\n",
    "    # criterion = nn.MSELoss()\n",
    "    # criterion = nn.NLLLoss()\n",
    "\n",
    "    # optimizer = optim.SGD(model.parameters(), lr=lr, momentum=momentum)\n",
    "    optimizer = optim.Adam(model.parameters(), lr=lr)\n",
    "\n",
    "    print(\"Training STARTED\")\n",
    "\n",
    "    for e in range(0, num_epochs):\n",
    "        model.train()  # set the model in training mode\n",
    "        total_train_loss = 0  # initialize the total training and validation loss\n",
    "\n",
    "        for i, (training_input, target) in enumerate(train_loader):  # loop over the training set\n",
    "            hidden = model.initHidden()\n",
    "            model.zero_grad()\n",
    "\n",
    "            output = [.0, .0, .0, .0]\n",
    "            for data_row in training_input:\n",
    "                for i in range(0, len(data_row), n_cols):\n",
    "                    model_input = data_row[None, i:i + n_cols].float()\n",
    "                    output, hidden = model(model_input, hidden)\n",
    "\n",
    "            optimizer.zero_grad()\n",
    "            loss = criterion(output, target)\n",
    "            loss.backward()\n",
    "            optimizer.step()\n",
    "\n",
    "            # add the loss to the total training loss so far and calculate the number of correct predictions\n",
    "            total_train_loss += loss.item()\n",
    "\n",
    "        if (e + 1) % 10 == 0:\n",
    "            print(\"Epoch\", e + 1, \"Training Loss:\", total_train_loss)\n",
    "\n",
    "    print(\"Training FINISHED\")\n",
    "\n",
    "    return model, criterion\n",
    "\n",
    "\n",
    "model = sf.RNN(n_cols, HIDDEN_LAYERS, len(CLASSES))\n",
    "model, criterion = train_model(model=model, train_loader=train_loader)\n"
   ],
   "metadata": {
    "collapsed": false,
    "ExecuteTime": {
     "end_time": "2023-11-13T16:29:10.173693Z",
     "start_time": "2023-11-13T16:29:06.248364Z"
    }
   },
   "id": "e7b124385ff76145"
  },
  {
   "cell_type": "markdown",
   "source": [
    "## Testing"
   ],
   "metadata": {
    "collapsed": false
   },
   "id": "530667021e47b60d"
  },
  {
   "cell_type": "code",
   "execution_count": 46,
   "outputs": [
    {
     "name": "stdout",
     "output_type": "stream",
     "text": [
      "Training Loss: 0.513656\n",
      "\n",
      "Training Accuracy of asphalt: 41% (31/74)\n",
      "Training Accuracy of pavement: 94% (162/171)\n",
      "Training Accuracy of gravel: N/A \n",
      "Training Accuracy of grass: 100% (20/20)\n",
      "Training Accuracy (Overall): 80% (213/265)\n"
     ]
    }
   ],
   "source": [
    "def print_training_accuracy(model, train_loader, criterion, classes):\n",
    "    training_loss, class_correct, class_total = util.compute_accuracy(model=model, loader=train_loader,\n",
    "                                                                      criterion=criterion)\n",
    "\n",
    "    # average training loss\n",
    "    training_loss = training_loss / len(train_loader.dataset)\n",
    "    print('Training Loss: {:.6f}\\n'.format(training_loss))\n",
    "    for i in range(len(classes)):\n",
    "        if class_total[i] > 0:\n",
    "            print('Training Accuracy of %5s: %2d%% (%2d/%2d)' % (\n",
    "                classes[i], 100.0 * class_correct[i] / class_total[i],\n",
    "                np.sum(class_correct[i]), np.sum(class_total[i])))\n",
    "        else:\n",
    "            print('Training Accuracy of %5s: N/A ' % (classes[i]))\n",
    "\n",
    "    print('Training Accuracy (Overall): %2d%% (%2d/%2d)' % (\n",
    "        100. * np.sum(class_correct) / np.sum(class_total),\n",
    "        np.sum(class_correct), np.sum(class_total)))\n",
    "\n",
    "\n",
    "print_training_accuracy(model=model, train_loader=train_loader, criterion=criterion, classes=CLASSES)"
   ],
   "metadata": {
    "collapsed": false,
    "ExecuteTime": {
     "end_time": "2023-11-13T16:29:10.241528Z",
     "start_time": "2023-11-13T16:29:10.174780Z"
    }
   },
   "id": "62ce83cb80d2b080"
  },
  {
   "cell_type": "code",
   "execution_count": 47,
   "outputs": [
    {
     "name": "stdout",
     "output_type": "stream",
     "text": [
      "Test Loss: 0.541806\n",
      "\n",
      "Test Accuracy of asphalt: 35% ( 6/17)\n",
      "Test Accuracy of pavement: 97% (47/48)\n",
      "Test Accuracy of gravel: N/A (no testing examples)\n",
      "Test Accuracy of grass: 100% ( 2/ 2)\n",
      "\n",
      "Test Accuracy (Overall): 82% (55/67)\n"
     ]
    }
   ],
   "source": [
    "def print_testing_accuracy(model, test_loader, classes, criterion):\n",
    "    test_loss, class_correct, class_total = util.compute_accuracy(model=model, loader=test_loader, criterion=criterion)\n",
    "\n",
    "    # average test loss\n",
    "    test_loss = test_loss / len(test_loader.dataset)\n",
    "    print('Test Loss: {:.6f}\\n'.format(test_loss))\n",
    "\n",
    "    for i in range(len(classes)):\n",
    "        if class_total[i] > 0:\n",
    "            print('Test Accuracy of %5s: %2d%% (%2d/%2d)' % (\n",
    "                classes[i], 100.0 * class_correct[i] / class_total[i],\n",
    "                np.sum(class_correct[i]), np.sum(class_total[i])))\n",
    "        else:\n",
    "            print('Test Accuracy of %5s: N/A (no testing examples)' % (classes[i]))\n",
    "\n",
    "    print('\\nTest Accuracy (Overall): %2d%% (%2d/%2d)' % (\n",
    "        100. * np.sum(class_correct) / np.sum(class_total),\n",
    "        np.sum(class_correct), np.sum(class_total)))\n",
    "\n",
    "\n",
    "print_testing_accuracy(model=model, test_loader=test_loader, criterion=criterion, classes=CLASSES)"
   ],
   "metadata": {
    "collapsed": false,
    "ExecuteTime": {
     "end_time": "2023-11-13T16:29:10.276480Z",
     "start_time": "2023-11-13T16:29:10.242898Z"
    }
   },
   "id": "d71d827209b64b7c"
  },
  {
   "cell_type": "code",
   "execution_count": 47,
   "outputs": [],
   "source": [],
   "metadata": {
    "collapsed": false,
    "ExecuteTime": {
     "end_time": "2023-11-13T16:29:10.276771Z",
     "start_time": "2023-11-13T16:29:10.261744Z"
    }
   },
   "id": "c1d760bc157dbf09"
  }
 ],
 "metadata": {
  "kernelspec": {
   "display_name": "Python 3",
   "language": "python",
   "name": "python3"
  },
  "language_info": {
   "codemirror_mode": {
    "name": "ipython",
    "version": 2
   },
   "file_extension": ".py",
   "mimetype": "text/x-python",
   "name": "python",
   "nbconvert_exporter": "python",
   "pygments_lexer": "ipython2",
   "version": "2.7.6"
  }
 },
 "nbformat": 4,
 "nbformat_minor": 5
}
