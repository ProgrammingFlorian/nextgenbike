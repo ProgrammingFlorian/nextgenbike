{
 "cells": [
  {
   "cell_type": "code",
   "execution_count": null,
   "outputs": [],
   "source": [
    "import numpy as np\n",
    "import pandas as pd\n",
    "import torch\n",
    "import torch.nn as nn\n",
    "from sklearn.model_selection import train_test_split\n",
    "from sklearn.preprocessing import MinMaxScaler\n",
    "\n",
    "import backend.config as config\n",
    "import dataprocessing\n",
    "import surfacemodelclass as sf\n",
    "import util"
   ],
   "metadata": {
    "collapsed": false
   },
   "id": "2e7c4dbf55512178"
  },
  {
   "cell_type": "markdown",
   "source": [
    "### Data preparation\n",
    "extract current data from the database and prepare for processing"
   ],
   "metadata": {
    "collapsed": false
   },
   "id": "3acda61db2d57078"
  },
  {
   "cell_type": "code",
   "execution_count": null,
   "outputs": [],
   "source": [
    "CLASSES = config.classes"
   ],
   "metadata": {
    "collapsed": false
   },
   "id": "initial_id"
  },
  {
   "cell_type": "code",
   "execution_count": null,
   "outputs": [],
   "source": [
    "FAKE_DATE = pd.to_datetime(\"1.1.2000\")\n",
    "\n",
    "LR = 1e-2\n",
    "MOMENTUM = 0.9\n",
    "NUM_EPOCHS = 10\n",
    "HIDDEN_LAYERS = 128\n",
    "BATCH_SIZE = 20\n",
    "\n",
    "NORMALIZE_SIZE = False\n",
    "\n",
    "pavement_start = pd.Timestamp(year=2023, month=11, day=6, hour=18, minute=34)\n",
    "pavement_end = pd.Timestamp(year=2023, month=11, day=6, hour=18, minute=54)\n",
    "asphalt_start_1 = pd.Timestamp(year=2023, month=11, day=6, hour=19, minute=10)\n",
    "asphalt_end_1 = pd.Timestamp(year=2023, month=11, day=6, hour=19, minute=16)\n",
    "asphalt_start_2 = pd.Timestamp(year=2023, month=11, day=6, hour=19, minute=31)\n",
    "asphalt_end_2 = pd.Timestamp(year=2023, month=11, day=6, hour=19, minute=50)\n",
    "\n",
    "\n",
    "def data_preparation(data):\n",
    "    df = pd.read_json(data)\n",
    "\n",
    "    df['time'] = pd.to_datetime(df['time'], format='mixed')\n",
    "    for i, row in df.iterrows():\n",
    "        if (row.time >= pavement_start) and (row.time <= pavement_end):\n",
    "            df.at[i, 'terrain'] = config.map_to_int('pavement')\n",
    "        elif (row.time >= asphalt_start_1) and (row.time <= asphalt_end_1):\n",
    "            df.at[i, 'terrain'] = config.map_to_int('asphalt')\n",
    "        elif (row.time >= asphalt_start_2) and (row.time <= asphalt_end_2):\n",
    "            df.at[i, 'terrain'] = config.map_to_int('asphalt')\n",
    "\n",
    "    df.dropna(subset=['terrain'], inplace=True)\n",
    "\n",
    "    df['time_second'] = df.time.map(lambda x: pd.Timestamp(x).floor(freq='S'))\n",
    "    df['time'] = df.time.map(pd.Timestamp.timestamp)\n",
    "\n",
    "    grouped = df.groupby([df.trip_id, df.time_second])  # grouped.get_group(1)\n",
    "    x = []\n",
    "    y = []\n",
    "    for i, (trip_seconds, table) in enumerate(grouped):\n",
    "        if (i + 1) % 100 == 0:\n",
    "            print(\"N trip seconds: \" + str(i + 1))\n",
    "\n",
    "        train_input = table.drop(columns=['terrain', 'trip_id', 'crash', 'time_second', 'latitude', 'longitude'])\n",
    "        n_cols = len(train_input.columns)\n",
    "\n",
    "        train_input = train_input.to_numpy()\n",
    "\n",
    "        # multiindex = pd.MultiIndex.from_product(\n",
    "        #     [train_input['time_second'].unique(), train_input.time.to_list() [timedelta.min] * (20 - len(train_input.time))])\n",
    "        # train_input = train_input.set_index(['time_second', 'time']).reindex(multiindex)\n",
    "        # train_input = train_input.groupby(level=0).apply(lambda x: x.interpolate())\n",
    "\n",
    "        if NORMALIZE_SIZE:\n",
    "            n_missing_rows = 20 - len(train_input)\n",
    "            for _ in range(n_missing_rows):\n",
    "                fake_array = np.array([None] * n_cols)\n",
    "                np.append(train_input, fake_array)\n",
    "\n",
    "        train_target = table.terrain.min()\n",
    "\n",
    "        x.append(train_input)\n",
    "        y.append(train_target)\n",
    "\n",
    "    return x, y\n",
    "\n",
    "\n",
    "raw_data = dataprocessing.get_data_db()\n",
    "X, Y = data_preparation(raw_data)"
   ],
   "metadata": {
    "collapsed": false
   },
   "id": "a0400ab1a9478850"
  },
  {
   "cell_type": "markdown",
   "source": [
    "### Training the Model"
   ],
   "metadata": {
    "collapsed": false
   },
   "id": "eb319204e1a5117d"
  },
  {
   "cell_type": "code",
   "execution_count": null,
   "outputs": [],
   "source": [
    "def flatten(l):\n",
    "    return [item for sublist in l for item in sublist]"
   ],
   "metadata": {
    "collapsed": false
   },
   "id": "f350fcc15fa28e59"
  },
  {
   "cell_type": "code",
   "execution_count": null,
   "outputs": [],
   "source": [
    "def to_loader(x, y):\n",
    "    return list(zip(x, y))"
   ],
   "metadata": {
    "collapsed": false
   },
   "id": "d34f60eb7bb9bc44"
  },
  {
   "cell_type": "code",
   "execution_count": null,
   "outputs": [],
   "source": [
    "def gen_dataloader(x, y, test_size=0.2, random_state=0):\n",
    "    scaler = MinMaxScaler()  # TODO: choose scaler\n",
    "    scaler.fit(flatten(x))  # TODO: transform data without trip_id\n",
    "\n",
    "    # x = torch.tensor(x)\n",
    "    # y = torch.tensor(y)\n",
    "    train_x, test_x, train_y, test_y = train_test_split(x, y, test_size=test_size, random_state=random_state)\n",
    "\n",
    "    # train_x = torch.Tensor(train_x).to(torch.float32)\n",
    "    # train_y = F.one_hot(torch.Tensor(train_y), len(CLASSES)).to(torch.float32)\n",
    "\n",
    "    # test_x = torch.Tensor(test_x).to(torch.float32)\n",
    "    # test_y = F.one_hot(torch.Tensor(test_y), len(CLASSES)).to(torch.float32)\n",
    "\n",
    "    # train_dataset = TensorDataset(train_x, train_y)\n",
    "    # test_dataset = TensorDataset(test_x, test_y)\n",
    "    # train_loader_t = DataLoader(train_dataset)\n",
    "    # test_loader_t = DataLoader(test_dataset)\n",
    "\n",
    "    return to_loader(train_x, train_y), to_loader(test_x, test_y), scaler\n",
    "\n",
    "\n",
    "train_loader, test_loader, scaler = gen_dataloader(X, Y)  # with default values"
   ],
   "metadata": {
    "collapsed": false
   },
   "id": "28a848b118514c84"
  },
  {
   "cell_type": "code",
   "execution_count": null,
   "outputs": [],
   "source": [
    "def train_model(model, device, train_loader, scaler, num_epochs=NUM_EPOCHS, lr=LR, momentum=MOMENTUM):\n",
    "    # criterion = nn.CrossEntropyLoss()\n",
    "    # criterion = nn.MSELoss()\n",
    "    criterion = nn.NLLLoss()\n",
    "\n",
    "    # optimizer = optim.SGD(model.parameters(), lr=lr, momentum=momentum)\n",
    "    # optimizer = optim.Adam(model.parameters(), lr=lr)\n",
    "\n",
    "    print(\"Training STARTED\")\n",
    "    model.to(device)\n",
    "\n",
    "    for e in range(0, num_epochs):\n",
    "        model.train()  # set the model in training mode\n",
    "        total_train_loss = 0  # initialize the total training and validation loss\n",
    "\n",
    "        for i, (training_input, target) in enumerate(train_loader):  # loop over the training set\n",
    "            hidden = model.initHidden()\n",
    "            model.zero_grad()\n",
    "\n",
    "            print(target.shape)\n",
    "\n",
    "            output = .0\n",
    "            for data_row in training_input:\n",
    "                # input = scaler.transform(training_input[data_row])\n",
    "                input = torch.tensor(data_row)\n",
    "                input = torch.tensor([ 1.6993e+09,  0.0000e+00,  2.5600e+02,  3.8000e+01, -3.3000e+01, -1.6000e+01,  6.5000e+01, -8.0000e+00], dtype=torch.float64)\n",
    "                print(input)\n",
    "                output, hidden = model(input, hidden)\n",
    "                    \n",
    "            loss = criterion(output, target)\n",
    "            loss.backward()\n",
    "\n",
    "            for p in model.parameters():\n",
    "                p.data.add_(p.grad.data, alpha=-lr)\n",
    "\n",
    "            # optimizer.step()\n",
    "            # add the loss to the total training loss so far and calculate the number of correct predictions\n",
    "            total_train_loss += loss.item()\n",
    "\n",
    "        if (e + 1) % 10 == 0 | e == 0:\n",
    "            print(\"Epoch\", e, \"Training Loss:\", total_train_loss.item())\n",
    "\n",
    "        print(\"Training FINISHED\")\n",
    "\n",
    "    return model, criterion, optimizer\n",
    "\n",
    "\n",
    "model = sf.RNN(BATCH_SIZE, HIDDEN_LAYERS, len(CLASSES))\n",
    "device = torch.device(\"mps\" if torch.backends.mps.is_available() else \"cpu\")  # for testing on my Mac\n",
    "model, criterion, optimizer = train_model(model=model, device=device, train_loader=train_loader, scaler=scaler)\n"
   ],
   "metadata": {
    "collapsed": false
   },
   "id": "e7b124385ff76145"
  },
  {
   "cell_type": "markdown",
   "source": [
    "## Testing"
   ],
   "metadata": {
    "collapsed": false
   },
   "id": "530667021e47b60d"
  },
  {
   "cell_type": "code",
   "execution_count": null,
   "outputs": [],
   "source": [
    "def print_training_accuracy(model, train_loader, criterion, classes,\n",
    "                            device=torch.device(\"mps\" if torch.backends.mps.is_available() else \"cpu\")\n",
    "                            ):\n",
    "    training_loss, class_correct, class_total = util.compute_accuracy(model, train_loader, device, criterion)\n",
    "\n",
    "    # average training loss\n",
    "    training_loss = training_loss / len(train_loader.dataset)\n",
    "    print('Training Loss: {:.6f}\\n'.format(training_loss))\n",
    "    for i in range(10):\n",
    "        if class_total[i] > 0:\n",
    "            print('Training Accuracy of %5s: %2d%% (%2d/%2d)' % (\n",
    "                classes[i], 100.0 * class_correct[i] / class_total[i],\n",
    "                np.sum(class_correct[i]), np.sum(class_total[i])))\n",
    "        else:\n",
    "            print('Training Accuracy of %5s: N/A ' % (classes[i]))\n",
    "\n",
    "    print('\\Training Accuracy (Overall): %2d%% (%2d/%2d)' % (\n",
    "        100. * np.sum(class_correct) / np.sum(class_total),\n",
    "        np.sum(class_correct), np.sum(class_total)))\n",
    "\n",
    "\n",
    "print_training_accuracy(model, train_loader, criterion, CLASSES, device)"
   ],
   "metadata": {
    "collapsed": false
   },
   "id": "62ce83cb80d2b080"
  },
  {
   "cell_type": "code",
   "execution_count": null,
   "outputs": [],
   "source": [
    "def print_testing_accuracy(model, test_loader, device, criterion, classes):\n",
    "    test_loss, class_correct, class_total = util.compute_accuracy(model, test_loader, device, criterion)\n",
    "\n",
    "    # average test loss\n",
    "    test_loss = test_loss / len(test_loader.dataset)\n",
    "    print('Test Loss: {:.6f}\\n'.format(test_loss))\n",
    "\n",
    "    for i in range(10):\n",
    "        if class_total[i] > 0:\n",
    "            print('Test Accuracy of %5s: %2d%% (%2d/%2d)' % (\n",
    "                classes[i], 100.0 * class_correct[i] / class_total[i],\n",
    "                np.sum(class_correct[i]), np.sum(class_total[i])))\n",
    "        else:\n",
    "            print('Test Accuracy of %5s: N/A (no training examples)' % (classes[i]))\n",
    "\n",
    "    print('\\nTest Accuracy (Overall): %2d%% (%2d/%2d)' % (\n",
    "        100. * np.sum(class_correct) / np.sum(class_total),\n",
    "        np.sum(class_correct), np.sum(class_total)))\n",
    "\n",
    "\n",
    "print_testing_accuracy(model, test_loader, criterion, CLASSES, device)"
   ],
   "metadata": {
    "collapsed": false
   },
   "id": "d71d827209b64b7c"
  }
 ],
 "metadata": {
  "kernelspec": {
   "display_name": "Python 3",
   "language": "python",
   "name": "python3"
  },
  "language_info": {
   "codemirror_mode": {
    "name": "ipython",
    "version": 2
   },
   "file_extension": ".py",
   "mimetype": "text/x-python",
   "name": "python",
   "nbconvert_exporter": "python",
   "pygments_lexer": "ipython2",
   "version": "2.7.6"
  }
 },
 "nbformat": 4,
 "nbformat_minor": 5
}
