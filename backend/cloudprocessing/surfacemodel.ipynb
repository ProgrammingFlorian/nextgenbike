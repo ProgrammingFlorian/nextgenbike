{
 "cells": [
  {
   "cell_type": "code",
   "execution_count": null,
   "outputs": [],
   "source": [
    "import numpy as np\n",
    "import pandas as pd\n",
    "import torch\n",
    "import torch.nn as nn\n",
    "from sklearn.model_selection import train_test_split\n",
    "from sklearn.preprocessing import MinMaxScaler\n",
    "\n",
    "import backend.config as config\n",
    "import dataprocessing\n",
    "import surfacemodelclass as sf\n",
    "import util"
   ],
   "metadata": {
    "collapsed": false
   },
   "id": "2e7c4dbf55512178"
  },
  {
   "cell_type": "markdown",
   "source": [
    "### Data preparation\n",
    "extract current data from the database and prepare for processing"
   ],
   "metadata": {
    "collapsed": false
   },
   "id": "3acda61db2d57078"
  },
  {
   "cell_type": "code",
   "execution_count": null,
   "outputs": [],
   "source": [
    "from requests.exceptions import ChunkedEncodingError\n",
    "\n",
    "CLASSES = config.classes\n",
    "\n",
    "raw_data = \"\"\n",
    "while raw_data == \"\":\n",
    "    try:\n",
    "        raw_data = dataprocessing.get_data_db()\n",
    "    except ChunkedEncodingError:\n",
    "        print(\"Couldn't get Data, retrying ...\")"
   ],
   "metadata": {
    "collapsed": false
   },
   "id": "initial_id"
  },
  {
   "cell_type": "code",
   "execution_count": null,
   "outputs": [],
   "source": [
    "FAKE_DATE = pd.to_datetime(\"1.1.2000\")\n",
    "BATCH_SIZE = 10\n",
    "n_cols = 8\n",
    "\n",
    "NORMALIZE_SIZE = True\n",
    "\n",
    "pavement_start = pd.Timestamp(year=2023, month=11, day=6, hour=18, minute=34)\n",
    "pavement_end = pd.Timestamp(year=2023, month=11, day=6, hour=18, minute=54)\n",
    "asphalt_start_1 = pd.Timestamp(year=2023, month=11, day=6, hour=19, minute=10)\n",
    "asphalt_end_1 = pd.Timestamp(year=2023, month=11, day=6, hour=19, minute=16)\n",
    "asphalt_start_2 = pd.Timestamp(year=2023, month=11, day=6, hour=19, minute=31)\n",
    "asphalt_end_2 = pd.Timestamp(year=2023, month=11, day=6, hour=19, minute=50)\n",
    "\n",
    "\n",
    "def data_preparation(data):\n",
    "    global n_cols\n",
    "    df = pd.read_json(data)\n",
    "\n",
    "    df['time'] = pd.to_datetime(df['time'], format='mixed')\n",
    "    for i, row in df.iterrows():\n",
    "        if (row.time >= pavement_start) and (row.time <= pavement_end):\n",
    "            df.at[i, 'terrain'] = config.map_to_int('pavement')\n",
    "        elif (row.time >= asphalt_start_1) and (row.time <= asphalt_end_1):\n",
    "            df.at[i, 'terrain'] = config.map_to_int('asphalt')\n",
    "        elif (row.time >= asphalt_start_2) and (row.time <= asphalt_end_2):\n",
    "            df.at[i, 'terrain'] = config.map_to_int('asphalt')\n",
    "\n",
    "    df.dropna(subset=['terrain'], inplace=True)\n",
    "\n",
    "    df['time_second'] = df.time.map(lambda x: pd.Timestamp(x).floor(freq='S'))\n",
    "    df['time'] = df.time.map(pd.Timestamp.timestamp)\n",
    "\n",
    "    grouped = df.groupby([df.trip_id, df.time_second])  # grouped.get_group(1)\n",
    "    x = []\n",
    "    y = []\n",
    "    for i, (trip_seconds, table) in enumerate(grouped):\n",
    "        if (i + 1) % 100 == 0:\n",
    "            print(\"# trip seconds: \" + str(i + 1))\n",
    "\n",
    "        train_input = table.drop(columns=['terrain', 'trip_id', 'crash', 'time_second', 'latitude', 'longitude'])\n",
    "        n_cols = len(train_input.columns)\n",
    "\n",
    "        train_input = train_input.to_numpy()\n",
    "\n",
    "        if NORMALIZE_SIZE:\n",
    "            # print(f\"normalizing missing {str(BATCH_SIZE - len(train_input))} rows\")\n",
    "            n_missing_rows = BATCH_SIZE - len(train_input)\n",
    "            if n_missing_rows <= 4:\n",
    "                print(\"Got a good sample\")\n",
    "            for _ in range(n_missing_rows):\n",
    "                fake_array = [0] * n_cols\n",
    "                train_input = np.append(train_input, fake_array)\n",
    "\n",
    "        train_target = table.terrain.min()\n",
    "\n",
    "        x.append(train_input)\n",
    "        y.append(train_target)\n",
    "\n",
    "    return np.array(x), np.array(y)\n",
    "\n",
    "\n",
    "X, Y = data_preparation(raw_data)"
   ],
   "metadata": {
    "collapsed": false
   },
   "id": "a0400ab1a9478850"
  },
  {
   "cell_type": "markdown",
   "source": [
    "### Training the Model"
   ],
   "metadata": {
    "collapsed": false
   },
   "id": "eb319204e1a5117d"
  },
  {
   "cell_type": "code",
   "execution_count": null,
   "outputs": [],
   "source": [
    "import torch.nn.functional as F\n",
    "from torch.utils.data import TensorDataset, DataLoader\n",
    "\n",
    "\n",
    "def gen_dataloader(x, y, test_size=0.2, random_state=0):\n",
    "    scaler = MinMaxScaler()  # TODO: choose scaler\n",
    "    scaler.fit(x)\n",
    "\n",
    "    x = torch.tensor(x)\n",
    "    y = torch.tensor(y)\n",
    "\n",
    "    train_x, test_x, train_y, test_y = train_test_split(x, y, test_size=test_size, random_state=random_state)\n",
    "\n",
    "    train_x = torch.Tensor(train_x)\n",
    "    train_y = F.one_hot(train_y.long(), len(CLASSES)).to(torch.float32)\n",
    "\n",
    "    test_x = torch.Tensor(test_x)\n",
    "    test_y = F.one_hot(test_y.long(), len(CLASSES)).to(torch.float32)\n",
    "\n",
    "    train_dataset = TensorDataset(train_x, train_y)\n",
    "    test_dataset = TensorDataset(test_x, test_y)\n",
    "\n",
    "    train_loader = DataLoader(train_dataset)\n",
    "    test_loader = DataLoader(test_dataset)\n",
    "\n",
    "    return train_loader, test_loader\n",
    "\n",
    "\n",
    "train_loader, test_loader = gen_dataloader(X, Y)  # with default values"
   ],
   "metadata": {
    "collapsed": false
   },
   "id": "28a848b118514c84"
  },
  {
   "cell_type": "code",
   "execution_count": null,
   "outputs": [],
   "source": [
    "from torch import optim\n",
    "\n",
    "LR = 1e-4\n",
    "MOMENTUM = 0.9\n",
    "NUM_EPOCHS = 10\n",
    "HIDDEN_LAYERS = 64\n",
    "\n",
    "\n",
    "def train_model(model, train_loader, num_epochs=NUM_EPOCHS, lr=LR, momentum=MOMENTUM, device=None):\n",
    "    global n_cols\n",
    "    criterion = nn.CrossEntropyLoss()\n",
    "    # criterion = nn.MSELoss()\n",
    "    # criterion = nn.NLLLoss()\n",
    "\n",
    "    optimizer = optim.SGD(model.parameters(), lr=lr, momentum=momentum)\n",
    "    # optimizer = optim.Adam(model.parameters(), lr=lr)\n",
    "\n",
    "    print(\"Training STARTED\")\n",
    "    # model.to(device)\n",
    "\n",
    "    for e in range(0, num_epochs):\n",
    "        model.train()  # set the model in training mode\n",
    "        total_train_loss = 0  # initialize the total training and validation loss\n",
    "\n",
    "        for i, (training_input, target) in enumerate(train_loader):  # loop over the training set\n",
    "            hidden = model.initHidden()\n",
    "            model.zero_grad()\n",
    "\n",
    "            output = [.0, .0, .0, .0]\n",
    "            for data_row in training_input:\n",
    "                for i in range(0, len(data_row), n_cols):\n",
    "                    model_input = data_row[None, i:i + n_cols].float()\n",
    "                    output, hidden = model(model_input, hidden)\n",
    "\n",
    "            optimizer.zero_grad()\n",
    "            loss = criterion(output, target)\n",
    "            loss.backward()\n",
    "            optimizer.step()\n",
    "\n",
    "            # add the loss to the total training loss so far and calculate the number of correct predictions\n",
    "            total_train_loss += loss.item()\n",
    "\n",
    "        if (e + 1) % 10 == 0:\n",
    "            print(\"Epoch\", e + 1, \"Training Loss:\", total_train_loss)\n",
    "\n",
    "    print(\"Training FINISHED\")\n",
    "\n",
    "    return model, criterion, optimizer\n",
    "\n",
    "\n",
    "model = sf.RNN(n_cols, HIDDEN_LAYERS, len(CLASSES))\n",
    "model, criterion, optimizer = train_model(model=model, train_loader=train_loader)\n"
   ],
   "metadata": {
    "collapsed": false
   },
   "id": "e7b124385ff76145"
  },
  {
   "cell_type": "markdown",
   "source": [
    "## Testing"
   ],
   "metadata": {
    "collapsed": false
   },
   "id": "530667021e47b60d"
  },
  {
   "cell_type": "code",
   "execution_count": null,
   "outputs": [],
   "source": [
    "def print_training_accuracy(model, train_loader, criterion, classes):\n",
    "    training_loss, class_correct, class_total = util.compute_accuracy(model=model, loader=train_loader, criterion=criterion, n_cols=n_cols)\n",
    "\n",
    "    # average training loss\n",
    "    training_loss = training_loss / len(train_loader.dataset)\n",
    "    print('Training Loss: {:.6f}\\n'.format(training_loss))\n",
    "    for i in range(10):\n",
    "        if class_total[i] > 0:\n",
    "            print('Training Accuracy of %5s: %2d%% (%2d/%2d)' % (\n",
    "                classes[i], 100.0 * class_correct[i] / class_total[i],\n",
    "                np.sum(class_correct[i]), np.sum(class_total[i])))\n",
    "        else:\n",
    "            print('Training Accuracy of %5s: N/A ' % (classes[i]))\n",
    "\n",
    "    print('\\Training Accuracy (Overall): %2d%% (%2d/%2d)' % (\n",
    "        100. * np.sum(class_correct) / np.sum(class_total),\n",
    "        np.sum(class_correct), np.sum(class_total)))\n",
    "\n",
    "\n",
    "print_training_accuracy(model, train_loader, criterion, CLASSES)"
   ],
   "metadata": {
    "collapsed": false
   },
   "id": "62ce83cb80d2b080"
  },
  {
   "cell_type": "code",
   "execution_count": null,
   "outputs": [],
   "source": [
    "def print_testing_accuracy(model, test_loader, device, classes, criterion=None):\n",
    "    test_loss, class_correct, class_total = util.compute_accuracy(model=model, loader=test_loader, criterion=criterion, n_cols=n_cols)\n",
    "\n",
    "    # average test loss\n",
    "    test_loss = test_loss / len(test_loader.dataset)\n",
    "    print('Test Loss: {:.6f}\\n'.format(test_loss))\n",
    "\n",
    "    for i in range(10):\n",
    "        if class_total[i] > 0:\n",
    "            print('Test Accuracy of %5s: %2d%% (%2d/%2d)' % (\n",
    "                classes[i], 100.0 * class_correct[i] / class_total[i],\n",
    "                np.sum(class_correct[i]), np.sum(class_total[i])))\n",
    "        else:\n",
    "            print('Test Accuracy of %5s: N/A (no training examples)' % (classes[i]))\n",
    "\n",
    "    print('\\nTest Accuracy (Overall): %2d%% (%2d/%2d)' % (\n",
    "        100. * np.sum(class_correct) / np.sum(class_total),\n",
    "        np.sum(class_correct), np.sum(class_total)))\n",
    "\n",
    "\n",
    "print_testing_accuracy(model, test_loader, criterion, CLASSES)"
   ],
   "metadata": {
    "collapsed": false
   },
   "id": "d71d827209b64b7c"
  }
 ],
 "metadata": {
  "kernelspec": {
   "display_name": "Python 3",
   "language": "python",
   "name": "python3"
  },
  "language_info": {
   "codemirror_mode": {
    "name": "ipython",
    "version": 2
   },
   "file_extension": ".py",
   "mimetype": "text/x-python",
   "name": "python",
   "nbconvert_exporter": "python",
   "pygments_lexer": "ipython2",
   "version": "2.7.6"
  }
 },
 "nbformat": 4,
 "nbformat_minor": 5
}
