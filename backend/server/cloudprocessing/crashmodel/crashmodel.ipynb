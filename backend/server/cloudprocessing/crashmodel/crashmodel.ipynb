{
 "cells": [
  {
   "cell_type": "code",
   "execution_count": 1,
   "id": "initial_id",
   "metadata": {
    "collapsed": true,
    "ExecuteTime": {
     "end_time": "2023-11-17T04:38:19.818281Z",
     "start_time": "2023-11-17T04:38:18.235198Z"
    }
   },
   "outputs": [
    {
     "name": "stderr",
     "output_type": "stream",
     "text": [
      "/Users/maximilianrapp/PycharmProjects/nextgenbike/backend/server/venv/lib/python3.9/site-packages/urllib3/__init__.py:34: NotOpenSSLWarning: urllib3 v2 only supports OpenSSL 1.1.1+, currently the 'ssl' module is compiled with 'LibreSSL 2.8.3'. See: https://github.com/urllib3/urllib3/issues/3020\n",
      "  warnings.warn(\n"
     ]
    }
   ],
   "source": [
    "import numpy as np\n",
    "import pandas as pd\n",
    "import torch\n",
    "import torch.nn as nn\n",
    "import torch.nn.functional as F\n",
    "from sklearn.model_selection import train_test_split\n",
    "from sklearn.preprocessing import StandardScaler\n",
    "from torch.utils.data import TensorDataset, DataLoader\n",
    "\n",
    "import cloudprocessing.dataprocessing as dp\n",
    "import cloudprocessing.rnn as rnn\n",
    "import cloudprocessing.util as util\n",
    "import config as config\n",
    "import crashmodel"
   ]
  },
  {
   "cell_type": "code",
   "execution_count": 2,
   "outputs": [
    {
     "name": "stdout",
     "output_type": "stream",
     "text": [
      "Couldn't get Data, retrying ...\n"
     ]
    },
    {
     "name": "stderr",
     "output_type": "stream",
     "text": [
      "/Users/maximilianrapp/PycharmProjects/nextgenbike/backend/server/cloudprocessing/dataprocessing.py:21: FutureWarning: Passing literal json to 'read_json' is deprecated and will be removed in a future version. To read from a literal string, wrap it in a 'StringIO' object.\n",
      "  return pd.read_json(raw_data)\n"
     ]
    }
   ],
   "source": [
    "df = dp.get_dataframe()\n",
    "# df = pd.read_json(raw_data)"
   ],
   "metadata": {
    "collapsed": false,
    "ExecuteTime": {
     "end_time": "2023-11-17T04:38:30.066188Z",
     "start_time": "2023-11-17T04:38:21.595792Z"
    }
   },
   "id": "abe9207bb5d68438"
  },
  {
   "cell_type": "code",
   "execution_count": 3,
   "outputs": [
    {
     "name": "stdout",
     "output_type": "stream",
     "text": [
      "Asphalt Data points:  10089\n",
      "Pavement Data points:  3485\n",
      "Gravel Data points:  0\n",
      "Grass Data points:  20511\n",
      "Crash Data points:  6381\n"
     ]
    }
   ],
   "source": [
    "df = dp.pre_processing(df)"
   ],
   "metadata": {
    "collapsed": false,
    "ExecuteTime": {
     "end_time": "2023-11-17T04:38:35.115399Z",
     "start_time": "2023-11-17T04:38:31.853993Z"
    }
   },
   "id": "5f373fbb7cd95ac"
  },
  {
   "cell_type": "code",
   "execution_count": 4,
   "outputs": [
    {
     "name": "stdout",
     "output_type": "stream",
     "text": [
      "GOOD :  0\n",
      "LONG :  0\n",
      "SHORT :  1907\n",
      "Mean Frequency is: 17.873623 Hz\n"
     ]
    }
   ],
   "source": [
    "def data_preparation(df):\n",
    "    df.dropna(subset=['terrain'], inplace=True)\n",
    "\n",
    "    df['time_second'] = df['time'].map(lambda x: pd.Timestamp(x).floor(freq='S'))\n",
    "    df['time'] = df['time'].map(pd.Timestamp.timestamp)\n",
    "\n",
    "    grouped = df.groupby([df.trip_id, df.time_second])  # grouped.get_group(1)\n",
    "    x, y = [], []\n",
    "\n",
    "    # data verification\n",
    "    data_errors = ['GOOD', 'LONG', 'SHORT']\n",
    "    data_checking = [0, 0, 0]\n",
    "    total_samples, actual_length = 0, 0\n",
    "\n",
    "    for i, (trip_seconds, table) in enumerate(grouped):\n",
    "        train_input = table.drop(columns=['terrain', 'trip_id', 'crash', 'time_second', 'latitude', 'longitude'])\n",
    "\n",
    "        train_input = train_input.to_numpy()\n",
    "\n",
    "        total_samples += 1\n",
    "        input_length = len(train_input)\n",
    "        actual_length += input_length\n",
    "        if input_length == config.batch_size:\n",
    "            data_checking[0] += 1\n",
    "        elif input_length > config.batch_size:\n",
    "            data_checking[1] += 1\n",
    "            train_input = train_input[:config.batch_size]\n",
    "        else:\n",
    "            data_checking[2] += 1\n",
    "            n_missing_rows = config.batch_size - len(train_input)\n",
    "            for _ in range(n_missing_rows):\n",
    "                fake_array = [1] * config.n_training_cols\n",
    "                train_input = np.append(train_input, fake_array)\n",
    "\n",
    "        train_target = table.crash.min()\n",
    "\n",
    "        x.append(train_input)\n",
    "        y.append(train_target)\n",
    "\n",
    "    for i in range(len(data_errors)):\n",
    "        print(data_errors[i], \": \", data_checking[i])\n",
    "\n",
    "    print('Mean Frequency is: %f Hz' % (actual_length / total_samples))\n",
    "\n",
    "    return np.array(x), np.array(y)\n",
    "\n",
    "X, Y = data_preparation(df)"
   ],
   "metadata": {
    "collapsed": false,
    "ExecuteTime": {
     "end_time": "2023-11-17T04:38:37.083893Z",
     "start_time": "2023-11-17T04:38:36.018967Z"
    }
   },
   "id": "8964fafa61230533"
  },
  {
   "cell_type": "code",
   "execution_count": 5,
   "outputs": [],
   "source": [
    "def gen_dataloader(x, y, test_size=0.2, random_state=0):\n",
    "    scaler = StandardScaler()\n",
    "    scaler.fit(x)\n",
    "    x = scaler.transform(x)\n",
    "\n",
    "    x = torch.tensor(x)\n",
    "    y = torch.tensor(y)\n",
    "\n",
    "    train_x, test_x, train_y, test_y = train_test_split(x, y, test_size=test_size, random_state=random_state)\n",
    "\n",
    "    train_x = torch.Tensor(train_x)\n",
    "    train_y = F.one_hot(train_y.long(), 2).to(torch.float32)\n",
    "\n",
    "    test_x = torch.Tensor(test_x)\n",
    "    test_y = F.one_hot(test_y.long(), 2).to(torch.float32)\n",
    "\n",
    "    train_dataset = TensorDataset(train_x, train_y)\n",
    "    test_dataset = TensorDataset(test_x, test_y)\n",
    "\n",
    "    train_loader = DataLoader(train_dataset)\n",
    "    test_loader = DataLoader(test_dataset)\n",
    "\n",
    "    return train_loader, test_loader\n",
    "\n",
    "\n",
    "train_loader, test_loader = gen_dataloader(X, Y)  # with default values"
   ],
   "metadata": {
    "collapsed": false,
    "ExecuteTime": {
     "end_time": "2023-11-17T04:38:38.978265Z",
     "start_time": "2023-11-17T04:38:38.965182Z"
    }
   },
   "id": "4fb1aa89bef856bf"
  },
  {
   "cell_type": "code",
   "execution_count": 6,
   "outputs": [
    {
     "name": "stdout",
     "output_type": "stream",
     "text": [
      "Training STARTED\n",
      "Epoch 10 Training Loss: 1229.7249710447095\n",
      "Epoch 20 Training Loss: 723.936374636949\n",
      "Training FINISHED\n"
     ]
    }
   ],
   "source": [
    "from torch import optim\n",
    "\n",
    "\n",
    "def train_model(model, train_loader, num_epochs=config.num_training_epochs, lr=config.learning_rate,\n",
    "                momentum=config.momentum):\n",
    "    criterion = nn.CrossEntropyLoss()\n",
    "    # criterion = nn.MSELoss()\n",
    "    # criterion = nn.NLLLoss()\n",
    "\n",
    "    # optimizer = optim.SGD(model.parameters(), lr=lr, momentum=momentum)\n",
    "    optimizer = optim.Adam(model.parameters(), lr=lr)\n",
    "\n",
    "    print(\"Training STARTED\")\n",
    "\n",
    "    for e in range(0, num_epochs):\n",
    "        model.train()  # set the model in training mode\n",
    "        total_train_loss = 0  # initialize the total training and validation loss\n",
    "\n",
    "        for i, (training_input, target) in enumerate(train_loader):  # loop over the training set\n",
    "            hidden = model.initHidden()\n",
    "            model.zero_grad()\n",
    "\n",
    "            output = [.0, .0]\n",
    "            for data_row in training_input:\n",
    "                for i in range(0, len(data_row), config.n_training_cols):\n",
    "                    model_input = data_row[None, i:i + config.n_training_cols].float()\n",
    "                    output, hidden = model(model_input, hidden)\n",
    "\n",
    "            optimizer.zero_grad()\n",
    "            loss = criterion(output, target)\n",
    "            loss.backward()\n",
    "            optimizer.step()\n",
    "\n",
    "            # add the loss to the total training loss so far and calculate the number of correct predictions\n",
    "            total_train_loss += loss.item()\n",
    "\n",
    "        if (e + 1) % 10 == 0:\n",
    "            print(\"Epoch\", e + 1, \"Training Loss:\", total_train_loss)\n",
    "\n",
    "    print(\"Training FINISHED\")\n",
    "\n",
    "    return model, criterion\n",
    "\n",
    "\n",
    "model = rnn.RNN(config.n_training_cols, config.n_hidden_layers, 2)\n",
    "model, criterion = train_model(model=model, train_loader=train_loader)\n"
   ],
   "metadata": {
    "collapsed": false,
    "ExecuteTime": {
     "end_time": "2023-11-17T04:39:25.813437Z",
     "start_time": "2023-11-17T04:38:40.711012Z"
    }
   },
   "id": "b8419ed23e02026b"
  },
  {
   "cell_type": "code",
   "execution_count": 7,
   "outputs": [
    {
     "name": "stdout",
     "output_type": "stream",
     "text": [
      "Training Loss: 0.482522\n",
      "\n",
      "True Positive:   0% ( 0/1525)\n",
      "False Positive:  0% ( 0/1525)\n",
      "False Negative: 19% (297/1525)\n",
      "True Negative:  80% (1228/1525)\n",
      "Training Accuracy (Overall): 80% (1228/1525)\n"
     ]
    }
   ],
   "source": [
    "def print_training_accuracy(model, train_loader, criterion):\n",
    "    training_loss, tp, fp, fn, tn, total = util.compute_accuracy_confusion_matrix(model=model, loader=train_loader,\n",
    "                                                                                  criterion=criterion)\n",
    "    # average training loss\n",
    "    training_loss = training_loss / len(train_loader.dataset)\n",
    "    print('Training Loss: {:.6f}\\n'.format(training_loss))\n",
    "    \n",
    "    print('True Positive:  %2d%% (%2d/%2d)' % (100. * tp / total, tp, total))\n",
    "    print('False Positive: %2d%% (%2d/%2d)' % (100. * fp / total, fp, total))\n",
    "    print('False Negative: %2d%% (%2d/%2d)' % (100. * fn / total, fn, total))\n",
    "    print('True Negative:  %2d%% (%2d/%2d)' % (100. * tn / total, tn, total))\n",
    "\n",
    "    print('Training Accuracy (Overall): %2d%% (%2d/%2d)' % (100. * (tp + tn) / total, tp + tn, total))\n",
    "\n",
    "\n",
    "print_training_accuracy(model=model, train_loader=train_loader, criterion=criterion)"
   ],
   "metadata": {
    "collapsed": false,
    "ExecuteTime": {
     "end_time": "2023-11-17T04:39:32.215807Z",
     "start_time": "2023-11-17T04:39:30.812929Z"
    }
   },
   "id": "604243f032dbd8d8"
  },
  {
   "cell_type": "code",
   "execution_count": 8,
   "outputs": [
    {
     "name": "stdout",
     "output_type": "stream",
     "text": [
      "Testing Loss: 0.482522\n",
      "\n",
      "True Positive:   0% ( 0/1525)\n",
      "False Positive:  0% ( 0/1525)\n",
      "False Negative: 19% (297/1525)\n",
      "True Negative:  80% (1228/1525)\n",
      "Testing Accuracy (Overall): 80% (1228/1525)\n"
     ]
    }
   ],
   "source": [
    "def print_testing_accuracy(model, train_loader, criterion):\n",
    "    testing_loss, tp, fp, fn, tn, total = util.compute_accuracy_confusion_matrix(model=model, loader=train_loader,\n",
    "                                                                                  criterion=criterion)\n",
    "    # average training loss\n",
    "    testing_loss = testing_loss / len(train_loader.dataset)\n",
    "    print('Testing Loss: {:.6f}\\n'.format(testing_loss))\n",
    "    \n",
    "    print('True Positive:  %2d%% (%2d/%2d)' % (100. * tp / total, tp, total))\n",
    "    print('False Positive: %2d%% (%2d/%2d)' % (100. * fp / total, fp, total))\n",
    "    print('False Negative: %2d%% (%2d/%2d)' % (100. * fn / total, fn, total))\n",
    "    print('True Negative:  %2d%% (%2d/%2d)' % (100. * tn / total, tn, total))\n",
    "\n",
    "    print('Testing Accuracy (Overall): %2d%% (%2d/%2d)' % (100. * (tp + tn) / total, tp + tn, total))\n",
    "\n",
    "\n",
    "print_testing_accuracy(model=model, train_loader=train_loader, criterion=criterion)"
   ],
   "metadata": {
    "collapsed": false,
    "ExecuteTime": {
     "end_time": "2023-11-17T04:39:38.404299Z",
     "start_time": "2023-11-17T04:39:37.067705Z"
    }
   },
   "id": "17b75067545cda80"
  },
  {
   "cell_type": "code",
   "execution_count": null,
   "outputs": [],
   "source": [],
   "metadata": {
    "collapsed": false
   },
   "id": "7e2548a76f70b858"
  }
 ],
 "metadata": {
  "kernelspec": {
   "display_name": "Python 3",
   "language": "python",
   "name": "python3"
  },
  "language_info": {
   "codemirror_mode": {
    "name": "ipython",
    "version": 2
   },
   "file_extension": ".py",
   "mimetype": "text/x-python",
   "name": "python",
   "nbconvert_exporter": "python",
   "pygments_lexer": "ipython2",
   "version": "2.7.6"
  }
 },
 "nbformat": 4,
 "nbformat_minor": 5
}
