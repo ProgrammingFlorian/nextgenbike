{
 "cells": [
  {
   "cell_type": "code",
   "execution_count": 1,
   "outputs": [
    {
     "name": "stderr",
     "output_type": "stream",
     "text": [
      "/Users/maximilianrapp/PycharmProjects/nextgenbike/venv/lib/python3.9/site-packages/urllib3/__init__.py:34: NotOpenSSLWarning: urllib3 v2.0 only supports OpenSSL 1.1.1+, currently the 'ssl' module is compiled with 'LibreSSL 2.8.3'. See: https://github.com/urllib3/urllib3/issues/3020\n",
      "  warnings.warn(\n"
     ]
    }
   ],
   "source": [
    "import numpy as np\n",
    "import torch\n",
    "import torch.nn as nn\n",
    "from sklearn.model_selection import train_test_split\n",
    "\n",
    "import backend.server.cloudprocessing.dataprocessing as dp\n",
    "import backend.server.cloudprocessing.rnn as rnn\n",
    "import backend.server.cloudprocessing.util as util\n",
    "import backend.config as config\n",
    "import surfacemodel as sf"
   ],
   "metadata": {
    "collapsed": false,
    "ExecuteTime": {
     "end_time": "2023-11-16T06:27:53.737527Z",
     "start_time": "2023-11-16T06:27:51.810812Z"
    }
   },
   "id": "2e7c4dbf55512178"
  },
  {
   "cell_type": "markdown",
   "source": [
    "### Data preparation\n",
    "extract current data from the database and prepare for processing"
   ],
   "metadata": {
    "collapsed": false
   },
   "id": "3acda61db2d57078"
  },
  {
   "cell_type": "code",
   "execution_count": 2,
   "outputs": [
    {
     "name": "stdout",
     "output_type": "stream",
     "text": [
      "Couldn't get Data, retrying ...\n",
      "Couldn't get Data, retrying ...\n",
      "Couldn't get Data, retrying ...\n"
     ]
    },
    {
     "name": "stderr",
     "output_type": "stream",
     "text": [
      "/Users/maximilianrapp/PycharmProjects/nextgenbike/backend/server/cloudprocessing/dataprocessing.py:20: FutureWarning: Passing literal json to 'read_json' is deprecated and will be removed in a future version. To read from a literal string, wrap it in a 'StringIO' object.\n",
      "  return pd.read_json(raw_data)\n"
     ]
    }
   ],
   "source": [
    "df = dp.get_dataframe()"
   ],
   "metadata": {
    "collapsed": false,
    "ExecuteTime": {
     "end_time": "2023-11-16T06:27:57.064119Z",
     "start_time": "2023-11-16T06:27:53.736304Z"
    }
   },
   "id": "initial_id"
  },
  {
   "cell_type": "code",
   "execution_count": 3,
   "outputs": [
    {
     "name": "stdout",
     "output_type": "stream",
     "text": [
      "Asphalt Data points:  1257\n",
      "Pavement Data points:  752\n",
      "Gravel Data points:  0\n",
      "Grass Data points:  886\n",
      "\n",
      "Crash Data points:  0\n"
     ]
    }
   ],
   "source": [
    "df = dp.pre_processing(df)"
   ],
   "metadata": {
    "collapsed": false,
    "ExecuteTime": {
     "end_time": "2023-11-16T06:27:57.319448Z",
     "start_time": "2023-11-16T06:27:57.121837Z"
    }
   },
   "id": "7302fcc9477fce"
  },
  {
   "cell_type": "code",
   "execution_count": 4,
   "outputs": [
    {
     "name": "stdout",
     "output_type": "stream",
     "text": [
      "# trip seconds: 100\n",
      "# trip seconds: 200\n",
      "# trip seconds: 300\n",
      "# trip seconds: 400\n",
      "# trip seconds: 500\n",
      "# trip seconds: 600\n",
      "# trip seconds: 700\n",
      "# trip seconds: 800\n",
      "Printing Data Accuracy to  10  Hz frequency ...\n",
      " GOOD:  0% ( 0/839)\n",
      " LONG:  0% ( 0/839)\n",
      "SHORT: 100% (839/839)\n",
      "Mean Batch Length: 3.45 per Tripsecond \n"
     ]
    }
   ],
   "source": [
    "X, Y = sf.data_preparation(df)"
   ],
   "metadata": {
    "collapsed": false,
    "ExecuteTime": {
     "end_time": "2023-11-16T06:27:57.507558Z",
     "start_time": "2023-11-16T06:27:57.320035Z"
    }
   },
   "id": "a0400ab1a9478850"
  },
  {
   "cell_type": "markdown",
   "source": [
    "### Training the Model"
   ],
   "metadata": {
    "collapsed": false
   },
   "id": "eb319204e1a5117d"
  },
  {
   "cell_type": "code",
   "execution_count": 5,
   "outputs": [],
   "source": [
    "import torch.nn.functional as F\n",
    "from torch.utils.data import TensorDataset, DataLoader\n",
    "from sklearn.preprocessing import StandardScaler\n",
    "\n",
    "\n",
    "def gen_dataloader(x, y, test_size=0.2, random_state=0):\n",
    "    # scaler = MinMaxScaler()  # TODO: choose scaler\n",
    "    scaler = StandardScaler()\n",
    "    scaler.fit(x)\n",
    "    x = scaler.transform(x)\n",
    "\n",
    "    x = torch.tensor(x)\n",
    "    y = torch.tensor(y)\n",
    "\n",
    "    train_x, test_x, train_y, test_y = train_test_split(x, y, test_size=test_size, random_state=random_state)\n",
    "\n",
    "    train_x = torch.Tensor(train_x)\n",
    "    train_y = F.one_hot(train_y.long(), len(config.classes)).to(torch.float32)\n",
    "\n",
    "    test_x = torch.Tensor(test_x)\n",
    "    test_y = F.one_hot(test_y.long(), len(config.classes)).to(torch.float32)\n",
    "\n",
    "    train_dataset = TensorDataset(train_x, train_y)\n",
    "    test_dataset = TensorDataset(test_x, test_y)\n",
    "\n",
    "    train_loader = DataLoader(train_dataset)\n",
    "    test_loader = DataLoader(test_dataset)\n",
    "\n",
    "    return train_loader, test_loader\n",
    "\n",
    "\n",
    "train_loader, test_loader = gen_dataloader(X, Y)  # with default values"
   ],
   "metadata": {
    "collapsed": false,
    "ExecuteTime": {
     "end_time": "2023-11-16T06:27:57.546131Z",
     "start_time": "2023-11-16T06:27:57.510400Z"
    }
   },
   "id": "28a848b118514c84"
  },
  {
   "cell_type": "code",
   "execution_count": 6,
   "outputs": [
    {
     "name": "stdout",
     "output_type": "stream",
     "text": [
      "Training STARTED\n",
      "Epoch 10 Training Loss: 511.0715486560948\n",
      "Epoch 20 Training Loss: 491.40325206145644\n",
      "Epoch 30 Training Loss: 471.56364293803927\n",
      "Epoch 40 Training Loss: 468.25402871659026\n",
      "Epoch 50 Training Loss: 466.7776224790141\n",
      "Epoch 60 Training Loss: 486.6547921908641\n",
      "Epoch 70 Training Loss: 454.6225065526087\n",
      "Epoch 80 Training Loss: 454.9870560101699\n",
      "Epoch 90 Training Loss: 447.0766955418512\n",
      "Epoch 100 Training Loss: 447.638699216699\n",
      "Training FINISHED\n"
     ]
    }
   ],
   "source": [
    "from torch import optim\n",
    "\n",
    "\n",
    "def train_model(model, train_loader, num_epochs=config.num_training_epochs, lr=config.learning_rate,\n",
    "                momentum=config.momentum):\n",
    "    criterion = nn.CrossEntropyLoss()\n",
    "    # criterion = nn.MSELoss()\n",
    "    # criterion = nn.NLLLoss()\n",
    "\n",
    "    # optimizer = optim.SGD(model.parameters(), lr=lr, momentum=momentum)\n",
    "    optimizer = optim.Adam(model.parameters(), lr=lr)\n",
    "\n",
    "    print(\"Training STARTED\")\n",
    "\n",
    "    for e in range(0, num_epochs):\n",
    "        model.train()  # set the model in training mode\n",
    "        total_train_loss = 0  # initialize the total training and validation loss\n",
    "\n",
    "        for i, (training_input, target) in enumerate(train_loader):  # loop over the training set\n",
    "            hidden = model.initHidden()\n",
    "            model.zero_grad()\n",
    "\n",
    "            output = [.0, .0, .0, .0]\n",
    "            for data_row in training_input:\n",
    "                for i in range(0, len(data_row), config.n_training_cols):\n",
    "                    model_input = data_row[None, i:i + config.n_training_cols].float()\n",
    "                    output, hidden = model(model_input, hidden)\n",
    "\n",
    "            optimizer.zero_grad()\n",
    "            loss = criterion(output, target)\n",
    "            loss.backward()\n",
    "            optimizer.step()\n",
    "\n",
    "            # add the loss to the total training loss so far and calculate the number of correct predictions\n",
    "            total_train_loss += loss.item()\n",
    "\n",
    "        if (e + 1) % 10 == 0:\n",
    "            print(\"Epoch\", e + 1, \"Training Loss:\", total_train_loss)\n",
    "\n",
    "    print(\"Training FINISHED\")\n",
    "\n",
    "    return model, criterion\n",
    "\n",
    "\n",
    "model = rnn.RNN(config.n_training_cols, config.n_hidden_layers, len(config.classes))\n",
    "model, criterion = train_model(model=model, train_loader=train_loader)\n"
   ],
   "metadata": {
    "collapsed": false,
    "ExecuteTime": {
     "end_time": "2023-11-16T06:28:41.417979Z",
     "start_time": "2023-11-16T06:27:57.534778Z"
    }
   },
   "id": "e7b124385ff76145"
  },
  {
   "cell_type": "markdown",
   "source": [
    "## Testing"
   ],
   "metadata": {
    "collapsed": false
   },
   "id": "530667021e47b60d"
  },
  {
   "cell_type": "code",
   "execution_count": 7,
   "outputs": [
    {
     "name": "stdout",
     "output_type": "stream",
     "text": [
      "Training Loss: 0.670275\n",
      "\n",
      "Training Accuracy of asphalt: 79% (227/284)\n",
      "Training Accuracy of pavement: 97% (172/176)\n",
      "Training Accuracy of gravel: N/A \n",
      "Training Accuracy of grass: 27% (57/211)\n",
      "Training Accuracy (Overall): 67% (456/671)\n"
     ]
    }
   ],
   "source": [
    "def print_training_accuracy(model, train_loader, criterion, classes):\n",
    "    training_loss, class_correct, class_total = util.compute_accuracy_rnn(model=model, loader=train_loader,\n",
    "                                                                      criterion=criterion)\n",
    "\n",
    "    # average training loss\n",
    "    training_loss = training_loss / len(train_loader.dataset)\n",
    "    print('Training Loss: {:.6f}\\n'.format(training_loss))\n",
    "    for i in range(len(classes)):\n",
    "        if class_total[i] > 0:\n",
    "            print('Training Accuracy of %5s: %2d%% (%2d/%2d)' % (\n",
    "                classes[i], 100.0 * class_correct[i] / class_total[i],\n",
    "                np.sum(class_correct[i]), np.sum(class_total[i])))\n",
    "        else:\n",
    "            print('Training Accuracy of %5s: N/A ' % (classes[i]))\n",
    "\n",
    "    print('Training Accuracy (Overall): %2d%% (%2d/%2d)' % (\n",
    "        100. * np.sum(class_correct) / np.sum(class_total),\n",
    "        np.sum(class_correct), np.sum(class_total)))\n",
    "\n",
    "\n",
    "print_training_accuracy(model=model, train_loader=train_loader, criterion=criterion, classes=config.classes)"
   ],
   "metadata": {
    "collapsed": false,
    "ExecuteTime": {
     "end_time": "2023-11-16T06:28:41.642397Z",
     "start_time": "2023-11-16T06:28:41.407771Z"
    }
   },
   "id": "62ce83cb80d2b080"
  },
  {
   "cell_type": "code",
   "execution_count": 8,
   "outputs": [
    {
     "name": "stdout",
     "output_type": "stream",
     "text": [
      "Test Loss: 0.761672\n",
      "\n",
      "Test Accuracy of asphalt: 76% (57/75)\n",
      "Test Accuracy of pavement: 93% (40/43)\n",
      "Test Accuracy of gravel: N/A (no testing examples)\n",
      "Test Accuracy of grass: 16% ( 8/50)\n",
      "\n",
      "Test Accuracy (Overall): 62% (105/168)\n"
     ]
    }
   ],
   "source": [
    "def print_testing_accuracy(model, test_loader, classes, criterion):\n",
    "    test_loss, class_correct, class_total = util.compute_accuracy_rnn(model=model, loader=test_loader, criterion=criterion)\n",
    "\n",
    "    # average test loss\n",
    "    test_loss = test_loss / len(test_loader.dataset)\n",
    "    print('Test Loss: {:.6f}\\n'.format(test_loss))\n",
    "\n",
    "    for i in range(len(classes)):\n",
    "        if class_total[i] > 0:\n",
    "            print('Test Accuracy of %5s: %2d%% (%2d/%2d)' % (\n",
    "                classes[i], 100.0 * class_correct[i] / class_total[i],\n",
    "                np.sum(class_correct[i]), np.sum(class_total[i])))\n",
    "        else:\n",
    "            print('Test Accuracy of %5s: N/A (no testing examples)' % (classes[i]))\n",
    "\n",
    "    print('\\nTest Accuracy (Overall): %2d%% (%2d/%2d)' % (\n",
    "        100. * np.sum(class_correct) / np.sum(class_total),\n",
    "        np.sum(class_correct), np.sum(class_total)))\n",
    "\n",
    "\n",
    "print_testing_accuracy(model=model, test_loader=test_loader, criterion=criterion, classes=config.classes)"
   ],
   "metadata": {
    "collapsed": false,
    "ExecuteTime": {
     "end_time": "2023-11-16T06:28:41.692019Z",
     "start_time": "2023-11-16T06:28:41.633665Z"
    }
   },
   "id": "d71d827209b64b7c"
  }
 ],
 "metadata": {
  "kernelspec": {
   "display_name": "Python 3",
   "language": "python",
   "name": "python3"
  },
  "language_info": {
   "codemirror_mode": {
    "name": "ipython",
    "version": 2
   },
   "file_extension": ".py",
   "mimetype": "text/x-python",
   "name": "python",
   "nbconvert_exporter": "python",
   "pygments_lexer": "ipython2",
   "version": "2.7.6"
  }
 },
 "nbformat": 4,
 "nbformat_minor": 5
}
